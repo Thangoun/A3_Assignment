{
 "cells": [
  {
   "attachments": {},
   "cell_type": "markdown",
   "id": "8ceede5c",
   "metadata": {},
   "source": [
    "# A3: Predictiong Car Price"
   ]
  },
  {
   "attachments": {},
   "cell_type": "markdown",
   "metadata": {},
   "source": [
    "## Importing libraries"
   ]
  },
  {
   "cell_type": "code",
   "execution_count": 198,
   "metadata": {},
   "outputs": [],
   "source": [
    "import numpy as np\n",
    "import pandas as pd\n",
    "import seaborn as sns\n",
    "import matplotlib.pyplot as plt \n",
    "import warnings\n",
    "warnings.filterwarnings('ignore')"
   ]
  },
  {
   "cell_type": "code",
   "execution_count": 199,
   "id": "f25c8be2",
   "metadata": {},
   "outputs": [
    {
     "data": {
      "text/plain": [
       "('2.0.2', '2.2.3', '0.13.2', '3.10.0')"
      ]
     },
     "execution_count": 199,
     "metadata": {},
     "output_type": "execute_result"
    }
   ],
   "source": [
    "import matplotlib\n",
    "np.__version__, pd.__version__, sns.__version__, matplotlib.__version__"
   ]
  },
  {
   "attachments": {},
   "cell_type": "markdown",
   "metadata": {},
   "source": [
    "## 1. Load data"
   ]
  },
  {
   "cell_type": "code",
   "execution_count": 200,
   "metadata": {},
   "outputs": [],
   "source": [
    "df = pd.read_csv('../data/Cars.csv')"
   ]
  },
  {
   "cell_type": "code",
   "execution_count": 201,
   "metadata": {},
   "outputs": [
    {
     "data": {
      "text/html": [
       "<div>\n",
       "<style scoped>\n",
       "    .dataframe tbody tr th:only-of-type {\n",
       "        vertical-align: middle;\n",
       "    }\n",
       "\n",
       "    .dataframe tbody tr th {\n",
       "        vertical-align: top;\n",
       "    }\n",
       "\n",
       "    .dataframe thead th {\n",
       "        text-align: right;\n",
       "    }\n",
       "</style>\n",
       "<table border=\"1\" class=\"dataframe\">\n",
       "  <thead>\n",
       "    <tr style=\"text-align: right;\">\n",
       "      <th></th>\n",
       "      <th>name</th>\n",
       "      <th>year</th>\n",
       "      <th>selling_price</th>\n",
       "      <th>km_driven</th>\n",
       "      <th>fuel</th>\n",
       "      <th>seller_type</th>\n",
       "      <th>transmission</th>\n",
       "      <th>owner</th>\n",
       "      <th>mileage</th>\n",
       "      <th>engine</th>\n",
       "      <th>max_power</th>\n",
       "      <th>torque</th>\n",
       "      <th>seats</th>\n",
       "    </tr>\n",
       "  </thead>\n",
       "  <tbody>\n",
       "    <tr>\n",
       "      <th>0</th>\n",
       "      <td>Maruti Swift Dzire VDI</td>\n",
       "      <td>2014</td>\n",
       "      <td>450000</td>\n",
       "      <td>145500</td>\n",
       "      <td>Diesel</td>\n",
       "      <td>Individual</td>\n",
       "      <td>Manual</td>\n",
       "      <td>First Owner</td>\n",
       "      <td>23.4 kmpl</td>\n",
       "      <td>1248 CC</td>\n",
       "      <td>74 bhp</td>\n",
       "      <td>190Nm@ 2000rpm</td>\n",
       "      <td>5.0</td>\n",
       "    </tr>\n",
       "    <tr>\n",
       "      <th>1</th>\n",
       "      <td>Skoda Rapid 1.5 TDI Ambition</td>\n",
       "      <td>2014</td>\n",
       "      <td>370000</td>\n",
       "      <td>120000</td>\n",
       "      <td>Diesel</td>\n",
       "      <td>Individual</td>\n",
       "      <td>Manual</td>\n",
       "      <td>Second Owner</td>\n",
       "      <td>21.14 kmpl</td>\n",
       "      <td>1498 CC</td>\n",
       "      <td>103.52 bhp</td>\n",
       "      <td>250Nm@ 1500-2500rpm</td>\n",
       "      <td>5.0</td>\n",
       "    </tr>\n",
       "    <tr>\n",
       "      <th>2</th>\n",
       "      <td>Honda City 2017-2020 EXi</td>\n",
       "      <td>2006</td>\n",
       "      <td>158000</td>\n",
       "      <td>140000</td>\n",
       "      <td>Petrol</td>\n",
       "      <td>Individual</td>\n",
       "      <td>Manual</td>\n",
       "      <td>Third Owner</td>\n",
       "      <td>17.7 kmpl</td>\n",
       "      <td>1497 CC</td>\n",
       "      <td>78 bhp</td>\n",
       "      <td>12.7@ 2,700(kgm@ rpm)</td>\n",
       "      <td>5.0</td>\n",
       "    </tr>\n",
       "    <tr>\n",
       "      <th>3</th>\n",
       "      <td>Hyundai i20 Sportz Diesel</td>\n",
       "      <td>2010</td>\n",
       "      <td>225000</td>\n",
       "      <td>127000</td>\n",
       "      <td>Diesel</td>\n",
       "      <td>Individual</td>\n",
       "      <td>Manual</td>\n",
       "      <td>First Owner</td>\n",
       "      <td>23.0 kmpl</td>\n",
       "      <td>1396 CC</td>\n",
       "      <td>90 bhp</td>\n",
       "      <td>22.4 kgm at 1750-2750rpm</td>\n",
       "      <td>5.0</td>\n",
       "    </tr>\n",
       "    <tr>\n",
       "      <th>4</th>\n",
       "      <td>Maruti Swift VXI BSIII</td>\n",
       "      <td>2007</td>\n",
       "      <td>130000</td>\n",
       "      <td>120000</td>\n",
       "      <td>Petrol</td>\n",
       "      <td>Individual</td>\n",
       "      <td>Manual</td>\n",
       "      <td>First Owner</td>\n",
       "      <td>16.1 kmpl</td>\n",
       "      <td>1298 CC</td>\n",
       "      <td>88.2 bhp</td>\n",
       "      <td>11.5@ 4,500(kgm@ rpm)</td>\n",
       "      <td>5.0</td>\n",
       "    </tr>\n",
       "  </tbody>\n",
       "</table>\n",
       "</div>"
      ],
      "text/plain": [
       "                           name  year  selling_price  km_driven    fuel  \\\n",
       "0        Maruti Swift Dzire VDI  2014         450000     145500  Diesel   \n",
       "1  Skoda Rapid 1.5 TDI Ambition  2014         370000     120000  Diesel   \n",
       "2      Honda City 2017-2020 EXi  2006         158000     140000  Petrol   \n",
       "3     Hyundai i20 Sportz Diesel  2010         225000     127000  Diesel   \n",
       "4        Maruti Swift VXI BSIII  2007         130000     120000  Petrol   \n",
       "\n",
       "  seller_type transmission         owner     mileage   engine   max_power  \\\n",
       "0  Individual       Manual   First Owner   23.4 kmpl  1248 CC      74 bhp   \n",
       "1  Individual       Manual  Second Owner  21.14 kmpl  1498 CC  103.52 bhp   \n",
       "2  Individual       Manual   Third Owner   17.7 kmpl  1497 CC      78 bhp   \n",
       "3  Individual       Manual   First Owner   23.0 kmpl  1396 CC      90 bhp   \n",
       "4  Individual       Manual   First Owner   16.1 kmpl  1298 CC    88.2 bhp   \n",
       "\n",
       "                     torque  seats  \n",
       "0            190Nm@ 2000rpm    5.0  \n",
       "1       250Nm@ 1500-2500rpm    5.0  \n",
       "2     12.7@ 2,700(kgm@ rpm)    5.0  \n",
       "3  22.4 kgm at 1750-2750rpm    5.0  \n",
       "4     11.5@ 4,500(kgm@ rpm)    5.0  "
      ]
     },
     "execution_count": 201,
     "metadata": {},
     "output_type": "execute_result"
    }
   ],
   "source": [
    "# print the first rows of data\n",
    "df.head()"
   ]
  },
  {
   "cell_type": "code",
   "execution_count": 202,
   "metadata": {},
   "outputs": [
    {
     "data": {
      "text/plain": [
       "(8128, 13)"
      ]
     },
     "execution_count": 202,
     "metadata": {},
     "output_type": "execute_result"
    }
   ],
   "source": [
    "# Check the shape of your data\n",
    "df.shape"
   ]
  },
  {
   "cell_type": "code",
   "execution_count": 203,
   "metadata": {},
   "outputs": [
    {
     "data": {
      "text/html": [
       "<div>\n",
       "<style scoped>\n",
       "    .dataframe tbody tr th:only-of-type {\n",
       "        vertical-align: middle;\n",
       "    }\n",
       "\n",
       "    .dataframe tbody tr th {\n",
       "        vertical-align: top;\n",
       "    }\n",
       "\n",
       "    .dataframe thead th {\n",
       "        text-align: right;\n",
       "    }\n",
       "</style>\n",
       "<table border=\"1\" class=\"dataframe\">\n",
       "  <thead>\n",
       "    <tr style=\"text-align: right;\">\n",
       "      <th></th>\n",
       "      <th>year</th>\n",
       "      <th>selling_price</th>\n",
       "      <th>km_driven</th>\n",
       "      <th>seats</th>\n",
       "    </tr>\n",
       "  </thead>\n",
       "  <tbody>\n",
       "    <tr>\n",
       "      <th>count</th>\n",
       "      <td>8128.000000</td>\n",
       "      <td>8.128000e+03</td>\n",
       "      <td>8.128000e+03</td>\n",
       "      <td>7907.000000</td>\n",
       "    </tr>\n",
       "    <tr>\n",
       "      <th>mean</th>\n",
       "      <td>2013.804011</td>\n",
       "      <td>6.382718e+05</td>\n",
       "      <td>6.981951e+04</td>\n",
       "      <td>5.416719</td>\n",
       "    </tr>\n",
       "    <tr>\n",
       "      <th>std</th>\n",
       "      <td>4.044249</td>\n",
       "      <td>8.062534e+05</td>\n",
       "      <td>5.655055e+04</td>\n",
       "      <td>0.959588</td>\n",
       "    </tr>\n",
       "    <tr>\n",
       "      <th>min</th>\n",
       "      <td>1983.000000</td>\n",
       "      <td>2.999900e+04</td>\n",
       "      <td>1.000000e+00</td>\n",
       "      <td>2.000000</td>\n",
       "    </tr>\n",
       "    <tr>\n",
       "      <th>25%</th>\n",
       "      <td>2011.000000</td>\n",
       "      <td>2.549990e+05</td>\n",
       "      <td>3.500000e+04</td>\n",
       "      <td>5.000000</td>\n",
       "    </tr>\n",
       "    <tr>\n",
       "      <th>50%</th>\n",
       "      <td>2015.000000</td>\n",
       "      <td>4.500000e+05</td>\n",
       "      <td>6.000000e+04</td>\n",
       "      <td>5.000000</td>\n",
       "    </tr>\n",
       "    <tr>\n",
       "      <th>75%</th>\n",
       "      <td>2017.000000</td>\n",
       "      <td>6.750000e+05</td>\n",
       "      <td>9.800000e+04</td>\n",
       "      <td>5.000000</td>\n",
       "    </tr>\n",
       "    <tr>\n",
       "      <th>max</th>\n",
       "      <td>2020.000000</td>\n",
       "      <td>1.000000e+07</td>\n",
       "      <td>2.360457e+06</td>\n",
       "      <td>14.000000</td>\n",
       "    </tr>\n",
       "  </tbody>\n",
       "</table>\n",
       "</div>"
      ],
      "text/plain": [
       "              year  selling_price     km_driven        seats\n",
       "count  8128.000000   8.128000e+03  8.128000e+03  7907.000000\n",
       "mean   2013.804011   6.382718e+05  6.981951e+04     5.416719\n",
       "std       4.044249   8.062534e+05  5.655055e+04     0.959588\n",
       "min    1983.000000   2.999900e+04  1.000000e+00     2.000000\n",
       "25%    2011.000000   2.549990e+05  3.500000e+04     5.000000\n",
       "50%    2015.000000   4.500000e+05  6.000000e+04     5.000000\n",
       "75%    2017.000000   6.750000e+05  9.800000e+04     5.000000\n",
       "max    2020.000000   1.000000e+07  2.360457e+06    14.000000"
      ]
     },
     "execution_count": 203,
     "metadata": {},
     "output_type": "execute_result"
    }
   ],
   "source": [
    "# Statistical \n",
    "df.describe()"
   ]
  },
  {
   "cell_type": "code",
   "execution_count": 204,
   "metadata": {},
   "outputs": [
    {
     "name": "stdout",
     "output_type": "stream",
     "text": [
      "<class 'pandas.core.frame.DataFrame'>\n",
      "RangeIndex: 8128 entries, 0 to 8127\n",
      "Data columns (total 13 columns):\n",
      " #   Column         Non-Null Count  Dtype  \n",
      "---  ------         --------------  -----  \n",
      " 0   name           8128 non-null   object \n",
      " 1   year           8128 non-null   int64  \n",
      " 2   selling_price  8128 non-null   int64  \n",
      " 3   km_driven      8128 non-null   int64  \n",
      " 4   fuel           8128 non-null   object \n",
      " 5   seller_type    8128 non-null   object \n",
      " 6   transmission   8128 non-null   object \n",
      " 7   owner          8128 non-null   object \n",
      " 8   mileage        7907 non-null   object \n",
      " 9   engine         7907 non-null   object \n",
      " 10  max_power      7913 non-null   object \n",
      " 11  torque         7906 non-null   object \n",
      " 12  seats          7907 non-null   float64\n",
      "dtypes: float64(1), int64(3), object(9)\n",
      "memory usage: 825.6+ KB\n"
     ]
    }
   ],
   "source": [
    "# Check Dtypes of your input data\n",
    "df.info()"
   ]
  },
  {
   "cell_type": "code",
   "execution_count": 205,
   "metadata": {
    "scrolled": true
   },
   "outputs": [
    {
     "data": {
      "text/plain": [
       "Index(['name', 'year', 'selling_price', 'km_driven', 'fuel', 'seller_type',\n",
       "       'transmission', 'owner', 'mileage', 'engine', 'max_power', 'torque',\n",
       "       'seats'],\n",
       "      dtype='object')"
      ]
     },
     "execution_count": 205,
     "metadata": {},
     "output_type": "execute_result"
    }
   ],
   "source": [
    "# Check the column names\n",
    "df.columns"
   ]
  },
  {
   "attachments": {},
   "cell_type": "markdown",
   "id": "e747b26a",
   "metadata": {},
   "source": [
    "## 2. Exploratory Data Analysis"
   ]
  },
  {
   "attachments": {},
   "cell_type": "markdown",
   "id": "c4d07a2f",
   "metadata": {},
   "source": [
    "#### Data Cleaning and Preprocessing\n",
    "\n",
    "map First owner to 1, ..., Test Drive Car to 5"
   ]
  },
  {
   "cell_type": "code",
   "execution_count": 206,
   "id": "1199f5d1",
   "metadata": {},
   "outputs": [],
   "source": [
    "owner_mapping = {'First Owner': 1, 'Second Owner': 2, 'Third Owner': 3, 'Fourth & Above Owner': 4, 'Test Drive Car': 5}\n",
    "df['owner'] = df['owner'].map(owner_mapping)"
   ]
  },
  {
   "cell_type": "code",
   "execution_count": 207,
   "id": "fa068587",
   "metadata": {},
   "outputs": [
    {
     "data": {
      "text/plain": [
       "array([1, 2, 3, 4, 5])"
      ]
     },
     "execution_count": 207,
     "metadata": {},
     "output_type": "execute_result"
    }
   ],
   "source": [
    "df['owner'].unique()"
   ]
  },
  {
   "cell_type": "markdown",
   "id": "18c489ae",
   "metadata": {},
   "source": [
    "For the feature fuel, remove all rows with CNG and LPG"
   ]
  },
  {
   "cell_type": "code",
   "execution_count": 208,
   "id": "505b4645",
   "metadata": {},
   "outputs": [
    {
     "data": {
      "text/plain": [
       "array(['Diesel', 'Petrol'], dtype=object)"
      ]
     },
     "execution_count": 208,
     "metadata": {},
     "output_type": "execute_result"
    }
   ],
   "source": [
    "df = df[~df['fuel'].isin(['CNG','LPG'])]\n",
    "df['fuel'].unique()"
   ]
  },
  {
   "cell_type": "markdown",
   "id": "607cf103",
   "metadata": {},
   "source": [
    "For the feature mileage, remove “kmpl” and convert the column to numerical type (e.g., float). Hint: use df.mileage.str.split"
   ]
  },
  {
   "cell_type": "code",
   "execution_count": 209,
   "id": "b20d80c9",
   "metadata": {},
   "outputs": [
    {
     "data": {
      "text/plain": [
       "array([23.4 , 21.14, 17.7 , 23.  , 16.1 , 20.14, 23.59, 20.  , 19.01,\n",
       "       17.3 , 19.3 ,   nan, 18.9 , 18.15, 24.52, 19.7 , 22.54, 21.  ,\n",
       "       25.5 , 26.59, 21.5 , 20.3 , 21.4 , 24.7 , 18.2 , 16.8 , 24.3 ,\n",
       "       14.  , 18.6 , 23.95, 17.  , 20.63, 13.93, 16.  , 17.8 , 18.5 ,\n",
       "       12.55, 12.99, 14.8 , 13.5 , 26.  , 20.65, 27.3 , 11.36, 17.68,\n",
       "       14.28, 18.53, 14.84, 21.12, 20.36, 21.27, 18.16, 22.  , 25.1 ,\n",
       "       20.51, 21.66, 25.2 , 22.9 , 16.02, 20.54, 22.77, 15.71, 23.1 ,\n",
       "       19.02, 19.81, 16.47, 15.04, 19.1 , 21.79, 18.8 , 21.21, 15.37,\n",
       "       11.79, 19.  , 14.3 , 15.8 , 15.1 , 19.09, 22.32, 21.9 , 14.53,\n",
       "       21.63, 20.85, 20.45, 19.67, 23.01, 20.77, 17.92, 17.01, 22.37,\n",
       "       19.33,  9.5 , 12.83, 22.48, 16.78, 14.67, 15.  , 13.96, 18.  ,\n",
       "       12.07, 26.21, 10.8 , 16.3 , 13.6 , 14.74, 15.6 , 19.56, 22.69,\n",
       "       19.16, 18.12, 12.1 , 17.5 , 42.  , 20.4 , 21.1 , 19.44, 13.  ,\n",
       "       21.43, 22.95, 16.2 , 15.3 , 28.09, 17.4 , 19.4 , 17.6 , 28.4 ,\n",
       "       14.1 , 25.17, 22.74, 17.57, 16.95, 19.49, 17.21, 13.2 , 14.2 ,\n",
       "       26.8 , 25.4 , 11.5 , 27.28, 17.97, 12.8 , 16.55, 12.05, 14.07,\n",
       "       21.02, 11.57, 17.9 , 15.96, 17.1 , 17.19, 21.01, 24.  , 25.6 ,\n",
       "       21.38, 23.84, 23.08, 14.24, 20.71, 15.64, 14.5 , 16.34, 27.39,\n",
       "       11.1 , 13.9 , 20.92, 23.8 , 24.4 , 15.29, 21.19, 22.5 , 19.6 ,\n",
       "       23.65, 25.32, 23.5 , 16.6 , 23.9 , 20.8 , 27.62, 12.9 , 25.44,\n",
       "       17.88, 22.7 , 17.2 , 15.42, 19.68, 18.7 , 15.4 , 19.34, 22.71,\n",
       "       25.8 , 13.7 , 12.2 , 18.49,  9.  ,  0.  , 13.58, 10.1 , 20.5 ,\n",
       "       25.  , 10.5 , 22.07, 22.3 , 15.26, 20.62, 27.4 , 23.2 , 14.4 ,\n",
       "       18.4 , 14.02, 11.  , 20.6 , 22.05, 20.2 , 18.1 , 22.1 , 19.87,\n",
       "       13.01, 18.06, 26.1 , 16.52, 13.55, 24.2 , 25.83, 11.2 , 17.09,\n",
       "       21.03, 17.45, 21.64, 13.87, 19.98, 20.52, 23.57, 11.7 , 17.43,\n",
       "       18.88, 13.68, 11.18, 20.89, 11.8 , 19.62, 21.7 , 14.9 , 19.5 ,\n",
       "       10.91, 15.7 , 20.73, 15.85, 20.7 , 14.23, 16.5 , 17.36, 12.6 ,\n",
       "       16.36, 14.95, 16.9 , 19.2 , 16.96, 22.15, 18.78, 19.61, 17.71,\n",
       "       18.3 , 19.12, 19.72, 12.  , 11.4 , 23.03, 11.07, 15.9 , 17.67,\n",
       "       20.46, 13.1 , 24.8 , 15.73, 15.11, 12.7 , 21.2 , 20.38, 21.56,\n",
       "       13.22, 14.49, 15.05, 23.26, 15.41, 13.8 , 22.27, 14.66, 12.12,\n",
       "       16.84, 14.09, 14.7 , 13.4 , 15.5 , 13.49, 14.6 , 10.75, 24.5 ,\n",
       "       11.74, 16.07, 15.63, 25.47, 17.05, 23.3 , 11.9 , 13.38, 20.86,\n",
       "       10.9 , 18.25, 15.2 , 20.37, 21.8 , 11.96, 24.04, 19.69, 13.73,\n",
       "       21.04, 25.01, 10.93, 24.29, 13.44, 20.07, 19.08, 20.34, 11.68,\n",
       "       12.5 , 12.3 , 23.87, 16.38, 17.42, 10.  , 18.24, 10.71, 19.59,\n",
       "       16.7 , 19.83, 21.76, 16.05, 20.28, 16.25, 16.73, 18.48, 14.99,\n",
       "       18.76, 16.4 , 19.64, 14.94, 17.11, 12.4 , 18.44, 16.09, 12.62,\n",
       "       21.13, 15.17, 21.73, 21.72, 12.85, 14.81, 13.24, 21.49, 14.62,\n",
       "       11.45, 12.08, 15.74, 11.3 , 14.21, 11.72, 16.51])"
      ]
     },
     "execution_count": 209,
     "metadata": {},
     "output_type": "execute_result"
    }
   ],
   "source": [
    "df['mileage'] = df['mileage'].str.split().str[0]\n",
    "df['mileage'] = df['mileage'].astype(float)\n",
    "df['mileage'].unique()"
   ]
  },
  {
   "cell_type": "markdown",
   "id": "5c582574",
   "metadata": {},
   "source": [
    "For the feature engine, remove “CC” and convert the column to numerical type (e.g., float). Do the same for max power"
   ]
  },
  {
   "cell_type": "code",
   "execution_count": 210,
   "id": "86bd16ad",
   "metadata": {},
   "outputs": [],
   "source": [
    "df['engine'] = df.engine.str.split().str[0].astype(float)"
   ]
  },
  {
   "cell_type": "code",
   "execution_count": 211,
   "id": "389a557e",
   "metadata": {},
   "outputs": [],
   "source": [
    "df['max_power'] = df.max_power.str.split().str[0].astype(float)"
   ]
  },
  {
   "cell_type": "markdown",
   "id": "23223040",
   "metadata": {},
   "source": [
    "For the feature brand, take only the first word and remove the rest"
   ]
  },
  {
   "cell_type": "code",
   "execution_count": 212,
   "id": "70be3da4",
   "metadata": {},
   "outputs": [
    {
     "data": {
      "text/html": [
       "<div>\n",
       "<style scoped>\n",
       "    .dataframe tbody tr th:only-of-type {\n",
       "        vertical-align: middle;\n",
       "    }\n",
       "\n",
       "    .dataframe tbody tr th {\n",
       "        vertical-align: top;\n",
       "    }\n",
       "\n",
       "    .dataframe thead th {\n",
       "        text-align: right;\n",
       "    }\n",
       "</style>\n",
       "<table border=\"1\" class=\"dataframe\">\n",
       "  <thead>\n",
       "    <tr style=\"text-align: right;\">\n",
       "      <th></th>\n",
       "      <th>brand</th>\n",
       "      <th>year</th>\n",
       "      <th>selling_price</th>\n",
       "      <th>km_driven</th>\n",
       "      <th>fuel</th>\n",
       "      <th>seller_type</th>\n",
       "      <th>transmission</th>\n",
       "      <th>owner</th>\n",
       "      <th>mileage</th>\n",
       "      <th>engine</th>\n",
       "      <th>max_power</th>\n",
       "      <th>torque</th>\n",
       "      <th>seats</th>\n",
       "    </tr>\n",
       "  </thead>\n",
       "  <tbody>\n",
       "    <tr>\n",
       "      <th>0</th>\n",
       "      <td>Maruti</td>\n",
       "      <td>2014</td>\n",
       "      <td>450000</td>\n",
       "      <td>145500</td>\n",
       "      <td>Diesel</td>\n",
       "      <td>Individual</td>\n",
       "      <td>Manual</td>\n",
       "      <td>1</td>\n",
       "      <td>23.40</td>\n",
       "      <td>1248.0</td>\n",
       "      <td>74.00</td>\n",
       "      <td>190Nm@ 2000rpm</td>\n",
       "      <td>5.0</td>\n",
       "    </tr>\n",
       "    <tr>\n",
       "      <th>1</th>\n",
       "      <td>Skoda</td>\n",
       "      <td>2014</td>\n",
       "      <td>370000</td>\n",
       "      <td>120000</td>\n",
       "      <td>Diesel</td>\n",
       "      <td>Individual</td>\n",
       "      <td>Manual</td>\n",
       "      <td>2</td>\n",
       "      <td>21.14</td>\n",
       "      <td>1498.0</td>\n",
       "      <td>103.52</td>\n",
       "      <td>250Nm@ 1500-2500rpm</td>\n",
       "      <td>5.0</td>\n",
       "    </tr>\n",
       "    <tr>\n",
       "      <th>2</th>\n",
       "      <td>Honda</td>\n",
       "      <td>2006</td>\n",
       "      <td>158000</td>\n",
       "      <td>140000</td>\n",
       "      <td>Petrol</td>\n",
       "      <td>Individual</td>\n",
       "      <td>Manual</td>\n",
       "      <td>3</td>\n",
       "      <td>17.70</td>\n",
       "      <td>1497.0</td>\n",
       "      <td>78.00</td>\n",
       "      <td>12.7@ 2,700(kgm@ rpm)</td>\n",
       "      <td>5.0</td>\n",
       "    </tr>\n",
       "    <tr>\n",
       "      <th>3</th>\n",
       "      <td>Hyundai</td>\n",
       "      <td>2010</td>\n",
       "      <td>225000</td>\n",
       "      <td>127000</td>\n",
       "      <td>Diesel</td>\n",
       "      <td>Individual</td>\n",
       "      <td>Manual</td>\n",
       "      <td>1</td>\n",
       "      <td>23.00</td>\n",
       "      <td>1396.0</td>\n",
       "      <td>90.00</td>\n",
       "      <td>22.4 kgm at 1750-2750rpm</td>\n",
       "      <td>5.0</td>\n",
       "    </tr>\n",
       "    <tr>\n",
       "      <th>4</th>\n",
       "      <td>Maruti</td>\n",
       "      <td>2007</td>\n",
       "      <td>130000</td>\n",
       "      <td>120000</td>\n",
       "      <td>Petrol</td>\n",
       "      <td>Individual</td>\n",
       "      <td>Manual</td>\n",
       "      <td>1</td>\n",
       "      <td>16.10</td>\n",
       "      <td>1298.0</td>\n",
       "      <td>88.20</td>\n",
       "      <td>11.5@ 4,500(kgm@ rpm)</td>\n",
       "      <td>5.0</td>\n",
       "    </tr>\n",
       "    <tr>\n",
       "      <th>...</th>\n",
       "      <td>...</td>\n",
       "      <td>...</td>\n",
       "      <td>...</td>\n",
       "      <td>...</td>\n",
       "      <td>...</td>\n",
       "      <td>...</td>\n",
       "      <td>...</td>\n",
       "      <td>...</td>\n",
       "      <td>...</td>\n",
       "      <td>...</td>\n",
       "      <td>...</td>\n",
       "      <td>...</td>\n",
       "      <td>...</td>\n",
       "    </tr>\n",
       "    <tr>\n",
       "      <th>8123</th>\n",
       "      <td>Hyundai</td>\n",
       "      <td>2013</td>\n",
       "      <td>320000</td>\n",
       "      <td>110000</td>\n",
       "      <td>Petrol</td>\n",
       "      <td>Individual</td>\n",
       "      <td>Manual</td>\n",
       "      <td>1</td>\n",
       "      <td>18.50</td>\n",
       "      <td>1197.0</td>\n",
       "      <td>82.85</td>\n",
       "      <td>113.7Nm@ 4000rpm</td>\n",
       "      <td>5.0</td>\n",
       "    </tr>\n",
       "    <tr>\n",
       "      <th>8124</th>\n",
       "      <td>Hyundai</td>\n",
       "      <td>2007</td>\n",
       "      <td>135000</td>\n",
       "      <td>119000</td>\n",
       "      <td>Diesel</td>\n",
       "      <td>Individual</td>\n",
       "      <td>Manual</td>\n",
       "      <td>4</td>\n",
       "      <td>16.80</td>\n",
       "      <td>1493.0</td>\n",
       "      <td>110.00</td>\n",
       "      <td>24@ 1,900-2,750(kgm@ rpm)</td>\n",
       "      <td>5.0</td>\n",
       "    </tr>\n",
       "    <tr>\n",
       "      <th>8125</th>\n",
       "      <td>Maruti</td>\n",
       "      <td>2009</td>\n",
       "      <td>382000</td>\n",
       "      <td>120000</td>\n",
       "      <td>Diesel</td>\n",
       "      <td>Individual</td>\n",
       "      <td>Manual</td>\n",
       "      <td>1</td>\n",
       "      <td>19.30</td>\n",
       "      <td>1248.0</td>\n",
       "      <td>73.90</td>\n",
       "      <td>190Nm@ 2000rpm</td>\n",
       "      <td>5.0</td>\n",
       "    </tr>\n",
       "    <tr>\n",
       "      <th>8126</th>\n",
       "      <td>Tata</td>\n",
       "      <td>2013</td>\n",
       "      <td>290000</td>\n",
       "      <td>25000</td>\n",
       "      <td>Diesel</td>\n",
       "      <td>Individual</td>\n",
       "      <td>Manual</td>\n",
       "      <td>1</td>\n",
       "      <td>23.57</td>\n",
       "      <td>1396.0</td>\n",
       "      <td>70.00</td>\n",
       "      <td>140Nm@ 1800-3000rpm</td>\n",
       "      <td>5.0</td>\n",
       "    </tr>\n",
       "    <tr>\n",
       "      <th>8127</th>\n",
       "      <td>Tata</td>\n",
       "      <td>2013</td>\n",
       "      <td>290000</td>\n",
       "      <td>25000</td>\n",
       "      <td>Diesel</td>\n",
       "      <td>Individual</td>\n",
       "      <td>Manual</td>\n",
       "      <td>1</td>\n",
       "      <td>23.57</td>\n",
       "      <td>1396.0</td>\n",
       "      <td>70.00</td>\n",
       "      <td>140Nm@ 1800-3000rpm</td>\n",
       "      <td>5.0</td>\n",
       "    </tr>\n",
       "  </tbody>\n",
       "</table>\n",
       "<p>8033 rows × 13 columns</p>\n",
       "</div>"
      ],
      "text/plain": [
       "        brand  year  selling_price  km_driven    fuel seller_type  \\\n",
       "0      Maruti  2014         450000     145500  Diesel  Individual   \n",
       "1       Skoda  2014         370000     120000  Diesel  Individual   \n",
       "2       Honda  2006         158000     140000  Petrol  Individual   \n",
       "3     Hyundai  2010         225000     127000  Diesel  Individual   \n",
       "4      Maruti  2007         130000     120000  Petrol  Individual   \n",
       "...       ...   ...            ...        ...     ...         ...   \n",
       "8123  Hyundai  2013         320000     110000  Petrol  Individual   \n",
       "8124  Hyundai  2007         135000     119000  Diesel  Individual   \n",
       "8125   Maruti  2009         382000     120000  Diesel  Individual   \n",
       "8126     Tata  2013         290000      25000  Diesel  Individual   \n",
       "8127     Tata  2013         290000      25000  Diesel  Individual   \n",
       "\n",
       "     transmission  owner  mileage  engine  max_power  \\\n",
       "0          Manual      1    23.40  1248.0      74.00   \n",
       "1          Manual      2    21.14  1498.0     103.52   \n",
       "2          Manual      3    17.70  1497.0      78.00   \n",
       "3          Manual      1    23.00  1396.0      90.00   \n",
       "4          Manual      1    16.10  1298.0      88.20   \n",
       "...           ...    ...      ...     ...        ...   \n",
       "8123       Manual      1    18.50  1197.0      82.85   \n",
       "8124       Manual      4    16.80  1493.0     110.00   \n",
       "8125       Manual      1    19.30  1248.0      73.90   \n",
       "8126       Manual      1    23.57  1396.0      70.00   \n",
       "8127       Manual      1    23.57  1396.0      70.00   \n",
       "\n",
       "                         torque  seats  \n",
       "0                190Nm@ 2000rpm    5.0  \n",
       "1           250Nm@ 1500-2500rpm    5.0  \n",
       "2         12.7@ 2,700(kgm@ rpm)    5.0  \n",
       "3      22.4 kgm at 1750-2750rpm    5.0  \n",
       "4         11.5@ 4,500(kgm@ rpm)    5.0  \n",
       "...                         ...    ...  \n",
       "8123           113.7Nm@ 4000rpm    5.0  \n",
       "8124  24@ 1,900-2,750(kgm@ rpm)    5.0  \n",
       "8125             190Nm@ 2000rpm    5.0  \n",
       "8126        140Nm@ 1800-3000rpm    5.0  \n",
       "8127        140Nm@ 1800-3000rpm    5.0  \n",
       "\n",
       "[8033 rows x 13 columns]"
      ]
     },
     "execution_count": 212,
     "metadata": {},
     "output_type": "execute_result"
    }
   ],
   "source": [
    "df.rename(columns = {'name':'brand'},  inplace = True)\n",
    "df['brand'] = df['brand'].str.split().str.get(0)\n",
    "df"
   ]
  },
  {
   "cell_type": "code",
   "execution_count": 213,
   "id": "03c4769d",
   "metadata": {},
   "outputs": [],
   "source": [
    "#Drop the feature torque,\n",
    "\n",
    "df = df.drop(columns=['torque'])"
   ]
  },
  {
   "cell_type": "code",
   "execution_count": 214,
   "id": "012413b6",
   "metadata": {},
   "outputs": [
    {
     "data": {
      "text/plain": [
       "array([1, 2, 3, 4])"
      ]
     },
     "execution_count": 214,
     "metadata": {},
     "output_type": "execute_result"
    }
   ],
   "source": [
    "#Delete 'Test Driver Car' sample\n",
    "df = df[df['owner'] != 5]\n",
    "df['owner'].unique()"
   ]
  },
  {
   "cell_type": "code",
   "execution_count": 215,
   "id": "19f621a0",
   "metadata": {},
   "outputs": [
    {
     "data": {
      "text/html": [
       "<div>\n",
       "<style scoped>\n",
       "    .dataframe tbody tr th:only-of-type {\n",
       "        vertical-align: middle;\n",
       "    }\n",
       "\n",
       "    .dataframe tbody tr th {\n",
       "        vertical-align: top;\n",
       "    }\n",
       "\n",
       "    .dataframe thead th {\n",
       "        text-align: right;\n",
       "    }\n",
       "</style>\n",
       "<table border=\"1\" class=\"dataframe\">\n",
       "  <thead>\n",
       "    <tr style=\"text-align: right;\">\n",
       "      <th></th>\n",
       "      <th>brand</th>\n",
       "      <th>year</th>\n",
       "      <th>selling_price</th>\n",
       "      <th>km_driven</th>\n",
       "      <th>fuel</th>\n",
       "      <th>seller_type</th>\n",
       "      <th>transmission</th>\n",
       "      <th>owner</th>\n",
       "      <th>mileage</th>\n",
       "      <th>engine</th>\n",
       "      <th>max_power</th>\n",
       "      <th>seats</th>\n",
       "    </tr>\n",
       "  </thead>\n",
       "  <tbody>\n",
       "    <tr>\n",
       "      <th>0</th>\n",
       "      <td>Maruti</td>\n",
       "      <td>2014</td>\n",
       "      <td>450000</td>\n",
       "      <td>145500</td>\n",
       "      <td>Diesel</td>\n",
       "      <td>Individual</td>\n",
       "      <td>Manual</td>\n",
       "      <td>1</td>\n",
       "      <td>23.40</td>\n",
       "      <td>1248.0</td>\n",
       "      <td>74.00</td>\n",
       "      <td>5.0</td>\n",
       "    </tr>\n",
       "    <tr>\n",
       "      <th>1</th>\n",
       "      <td>Skoda</td>\n",
       "      <td>2014</td>\n",
       "      <td>370000</td>\n",
       "      <td>120000</td>\n",
       "      <td>Diesel</td>\n",
       "      <td>Individual</td>\n",
       "      <td>Manual</td>\n",
       "      <td>2</td>\n",
       "      <td>21.14</td>\n",
       "      <td>1498.0</td>\n",
       "      <td>103.52</td>\n",
       "      <td>5.0</td>\n",
       "    </tr>\n",
       "    <tr>\n",
       "      <th>2</th>\n",
       "      <td>Honda</td>\n",
       "      <td>2006</td>\n",
       "      <td>158000</td>\n",
       "      <td>140000</td>\n",
       "      <td>Petrol</td>\n",
       "      <td>Individual</td>\n",
       "      <td>Manual</td>\n",
       "      <td>3</td>\n",
       "      <td>17.70</td>\n",
       "      <td>1497.0</td>\n",
       "      <td>78.00</td>\n",
       "      <td>5.0</td>\n",
       "    </tr>\n",
       "    <tr>\n",
       "      <th>3</th>\n",
       "      <td>Hyundai</td>\n",
       "      <td>2010</td>\n",
       "      <td>225000</td>\n",
       "      <td>127000</td>\n",
       "      <td>Diesel</td>\n",
       "      <td>Individual</td>\n",
       "      <td>Manual</td>\n",
       "      <td>1</td>\n",
       "      <td>23.00</td>\n",
       "      <td>1396.0</td>\n",
       "      <td>90.00</td>\n",
       "      <td>5.0</td>\n",
       "    </tr>\n",
       "    <tr>\n",
       "      <th>4</th>\n",
       "      <td>Maruti</td>\n",
       "      <td>2007</td>\n",
       "      <td>130000</td>\n",
       "      <td>120000</td>\n",
       "      <td>Petrol</td>\n",
       "      <td>Individual</td>\n",
       "      <td>Manual</td>\n",
       "      <td>1</td>\n",
       "      <td>16.10</td>\n",
       "      <td>1298.0</td>\n",
       "      <td>88.20</td>\n",
       "      <td>5.0</td>\n",
       "    </tr>\n",
       "  </tbody>\n",
       "</table>\n",
       "</div>"
      ],
      "text/plain": [
       "     brand  year  selling_price  km_driven    fuel seller_type transmission  \\\n",
       "0   Maruti  2014         450000     145500  Diesel  Individual       Manual   \n",
       "1    Skoda  2014         370000     120000  Diesel  Individual       Manual   \n",
       "2    Honda  2006         158000     140000  Petrol  Individual       Manual   \n",
       "3  Hyundai  2010         225000     127000  Diesel  Individual       Manual   \n",
       "4   Maruti  2007         130000     120000  Petrol  Individual       Manual   \n",
       "\n",
       "   owner  mileage  engine  max_power  seats  \n",
       "0      1    23.40  1248.0      74.00    5.0  \n",
       "1      2    21.14  1498.0     103.52    5.0  \n",
       "2      3    17.70  1497.0      78.00    5.0  \n",
       "3      1    23.00  1396.0      90.00    5.0  \n",
       "4      1    16.10  1298.0      88.20    5.0  "
      ]
     },
     "execution_count": 215,
     "metadata": {},
     "output_type": "execute_result"
    }
   ],
   "source": [
    "df.head()"
   ]
  },
  {
   "cell_type": "markdown",
   "id": "2e5ce873",
   "metadata": {},
   "source": [
    "## Univariate analysis"
   ]
  },
  {
   "cell_type": "markdown",
   "id": "b4eb6a12",
   "metadata": {},
   "source": [
    "Distribution Plot"
   ]
  },
  {
   "cell_type": "code",
   "execution_count": 216,
   "id": "efb095ce",
   "metadata": {},
   "outputs": [
    {
     "data": {
      "text/plain": [
       "<seaborn.axisgrid.FacetGrid at 0x118ebe290>"
      ]
     },
     "execution_count": 216,
     "metadata": {},
     "output_type": "execute_result"
    },
    {
     "data": {
      "image/png": "[encoded data removed]",
      "text/plain": [
       "<Figure size 500x500 with 1 Axes>"
      ]
     },
     "metadata": {},
     "output_type": "display_data"
    }
   ],
   "source": [
    "sns.displot(data = df, x = 'mileage')"
   ]
  },
  {
   "cell_type": "code",
   "execution_count": 217,
   "id": "f72763ba",
   "metadata": {},
   "outputs": [
    {
     "data": {
      "text/plain": [
       "<seaborn.axisgrid.FacetGrid at 0x168c4b0d0>"
      ]
     },
     "execution_count": 217,
     "metadata": {},
     "output_type": "execute_result"
    },
    {
     "data": {
      "image/png": "[encoded data removed]",
      "text/plain": [
       "<Figure size 500x500 with 1 Axes>"
      ]
     },
     "metadata": {},
     "output_type": "display_data"
    }
   ],
   "source": [
    "sns.displot(data = df, x = 'year')"
   ]
  },
  {
   "cell_type": "code",
   "execution_count": 218,
   "id": "16815eb6",
   "metadata": {},
   "outputs": [
    {
     "data": {
      "text/plain": [
       "<seaborn.axisgrid.FacetGrid at 0x15a3e9de0>"
      ]
     },
     "execution_count": 218,
     "metadata": {},
     "output_type": "execute_result"
    },
    {
     "data": {
      "image/png": "[encoded data removed]",
      "text/plain": [
       "<Figure size 500x500 with 1 Axes>"
      ]
     },
     "metadata": {},
     "output_type": "display_data"
    }
   ],
   "source": [
    "sns.displot(data = df, x = 'max_power')"
   ]
  },
  {
   "cell_type": "markdown",
   "id": "4c7eb562",
   "metadata": {},
   "source": [
    "### Correlation matrix\n",
    "As the correlation matrix requires numerical values, I applied label encoding to the categorical features: ‘brand’, ‘fuel’, ‘transmission’, and ‘seller_type’."
   ]
  },
  {
   "cell_type": "code",
   "execution_count": 219,
   "id": "c73eeb93",
   "metadata": {},
   "outputs": [
    {
     "data": {
      "text/plain": [
       "array([20, 27, 10, 11, 29,  9, 26, 19, 28,  4,  7,  6, 14, 21, 22,  2, 30,\n",
       "        3, 23, 17, 13, 16, 18, 31,  5, 15,  8,  0,  1, 12, 24, 25])"
      ]
     },
     "execution_count": 219,
     "metadata": {},
     "output_type": "execute_result"
    }
   ],
   "source": [
    "from sklearn.preprocessing import LabelEncoder\n",
    "\n",
    "le = LabelEncoder()\n",
    "df[\"brand\"] = le.fit_transform(df[\"brand\"])\n",
    "\n",
    "df[\"brand\"].unique()"
   ]
  },
  {
   "cell_type": "code",
   "execution_count": 220,
   "id": "dc1a7bee",
   "metadata": {},
   "outputs": [
    {
     "name": "stdout",
     "output_type": "stream",
     "text": [
      "{'Ambassador': 0, 'Ashok': 1, 'Audi': 2, 'BMW': 3, 'Chevrolet': 4, 'Daewoo': 5, 'Datsun': 6, 'Fiat': 7, 'Force': 8, 'Ford': 9, 'Honda': 10, 'Hyundai': 11, 'Isuzu': 12, 'Jaguar': 13, 'Jeep': 14, 'Kia': 15, 'Land': 16, 'Lexus': 17, 'MG': 18, 'Mahindra': 19, 'Maruti': 20, 'Mercedes-Benz': 21, 'Mitsubishi': 22, 'Nissan': 23, 'Opel': 24, 'Peugeot': 25, 'Renault': 26, 'Skoda': 27, 'Tata': 28, 'Toyota': 29, 'Volkswagen': 30, 'Volvo': 31}\n"
     ]
    }
   ],
   "source": [
    "# To view the mapping\n",
    "label_mapping = dict(zip(le.classes_, range(len(le.classes_))))\n",
    "print(label_mapping)"
   ]
  },
  {
   "cell_type": "code",
   "execution_count": 221,
   "id": "8994af57",
   "metadata": {},
   "outputs": [
    {
     "data": {
      "text/plain": [
       "array([0, 1])"
      ]
     },
     "execution_count": 221,
     "metadata": {},
     "output_type": "execute_result"
    }
   ],
   "source": [
    "df['fuel'] = le.fit_transform(df['fuel'])\n",
    "\n",
    "df['fuel'].unique()"
   ]
  },
  {
   "cell_type": "code",
   "execution_count": 222,
   "id": "d437bc4c",
   "metadata": {},
   "outputs": [
    {
     "data": {
      "text/plain": [
       "array(['Diesel', 'Petrol'], dtype=object)"
      ]
     },
     "execution_count": 222,
     "metadata": {},
     "output_type": "execute_result"
    }
   ],
   "source": [
    "# we can call le.classes_ to know what it maps to\n",
    "le.classes_"
   ]
  },
  {
   "cell_type": "code",
   "execution_count": 223,
   "id": "b08e1e31",
   "metadata": {},
   "outputs": [
    {
     "data": {
      "text/plain": [
       "array([1, 0])"
      ]
     },
     "execution_count": 223,
     "metadata": {},
     "output_type": "execute_result"
    }
   ],
   "source": [
    "df['transmission'] = le.fit_transform(df['transmission'])\n",
    "df['transmission'].unique()"
   ]
  },
  {
   "cell_type": "code",
   "execution_count": 224,
   "id": "42f9dbb6",
   "metadata": {},
   "outputs": [
    {
     "data": {
      "text/plain": [
       "array(['Automatic', 'Manual'], dtype=object)"
      ]
     },
     "execution_count": 224,
     "metadata": {},
     "output_type": "execute_result"
    }
   ],
   "source": [
    "# we can call le.classes_ to know what it maps to\n",
    "le.classes_"
   ]
  },
  {
   "cell_type": "code",
   "execution_count": 225,
   "id": "3864bb1f",
   "metadata": {},
   "outputs": [
    {
     "data": {
      "text/plain": [
       "array([1, 0, 2])"
      ]
     },
     "execution_count": 225,
     "metadata": {},
     "output_type": "execute_result"
    }
   ],
   "source": [
    "df['seller_type'] = le.fit_transform(df['seller_type'])\n",
    "df['seller_type'].unique()"
   ]
  },
  {
   "cell_type": "code",
   "execution_count": 226,
   "id": "29e44c62",
   "metadata": {},
   "outputs": [
    {
     "data": {
      "text/plain": [
       "array(['Dealer', 'Individual', 'Trustmark Dealer'], dtype=object)"
      ]
     },
     "execution_count": 226,
     "metadata": {},
     "output_type": "execute_result"
    }
   ],
   "source": [
    "le.classes_"
   ]
  },
  {
   "cell_type": "code",
   "execution_count": 227,
   "id": "24556348",
   "metadata": {},
   "outputs": [],
   "source": [
    "# Apply log transformation to the 'selling_price' column\n",
    "df['selling_price'] = np.log(df['selling_price'])"
   ]
  },
  {
   "cell_type": "code",
   "execution_count": 228,
   "id": "ed84b11b",
   "metadata": {},
   "outputs": [
    {
     "data": {
      "text/plain": [
       "0       13.017003\n",
       "1       12.821258\n",
       "2       11.970350\n",
       "3       12.323856\n",
       "4       11.775290\n",
       "          ...    \n",
       "8123    12.676076\n",
       "8124    11.813030\n",
       "8125    12.853176\n",
       "8126    12.577636\n",
       "8127    12.577636\n",
       "Name: selling_price, Length: 8028, dtype: float64"
      ]
     },
     "execution_count": 228,
     "metadata": {},
     "output_type": "execute_result"
    }
   ],
   "source": [
    "df['selling_price']"
   ]
  },
  {
   "cell_type": "code",
   "execution_count": 229,
   "id": "5791f819",
   "metadata": {},
   "outputs": [
    {
     "name": "stdout",
     "output_type": "stream",
     "text": [
      "<class 'pandas.core.frame.DataFrame'>\n",
      "Index: 8028 entries, 0 to 8127\n",
      "Data columns (total 12 columns):\n",
      " #   Column         Non-Null Count  Dtype  \n",
      "---  ------         --------------  -----  \n",
      " 0   brand          8028 non-null   int64  \n",
      " 1   year           8028 non-null   int64  \n",
      " 2   selling_price  8028 non-null   float64\n",
      " 3   km_driven      8028 non-null   int64  \n",
      " 4   fuel           8028 non-null   int64  \n",
      " 5   seller_type    8028 non-null   int64  \n",
      " 6   transmission   8028 non-null   int64  \n",
      " 7   owner          8028 non-null   int64  \n",
      " 8   mileage        7814 non-null   float64\n",
      " 9   engine         7814 non-null   float64\n",
      " 10  max_power      7820 non-null   float64\n",
      " 11  seats          7814 non-null   float64\n",
      "dtypes: float64(5), int64(7)\n",
      "memory usage: 815.3 KB\n"
     ]
    }
   ],
   "source": [
    "df.info()"
   ]
  },
  {
   "cell_type": "code",
   "execution_count": 230,
   "id": "25e5dfb0",
   "metadata": {},
   "outputs": [
    {
     "data": {
      "text/plain": [
       "<Axes: >"
      ]
     },
     "execution_count": 230,
     "metadata": {},
     "output_type": "execute_result"
    },
    {
     "data": {
      "image/png": "[encoded data removed]",
      "text/plain": [
       "<Figure size 1500x800 with 2 Axes>"
      ]
     },
     "metadata": {},
     "output_type": "display_data"
    }
   ],
   "source": [
    "plt.figure(figsize = (15,8))\n",
    "sns.heatmap(df.corr(), annot=True, cmap=\"coolwarm\")"
   ]
  },
  {
   "attachments": {},
   "cell_type": "markdown",
   "id": "fbf3abf4",
   "metadata": {},
   "source": [
    "## 3. Feature Engineering\n",
    "\n",
    "We gonna skip."
   ]
  },
  {
   "attachments": {},
   "cell_type": "markdown",
   "metadata": {},
   "source": [
    "## 4. Feature selection"
   ]
  },
  {
   "cell_type": "code",
   "execution_count": 231,
   "metadata": {},
   "outputs": [],
   "source": [
    "#x is our strong features\n",
    "X = df[['year', 'mileage','max_power']]\n",
    "y = df['selling_price']"
   ]
  },
  {
   "cell_type": "code",
   "execution_count": 232,
   "id": "4297629e",
   "metadata": {},
   "outputs": [
    {
     "data": {
      "text/plain": [
       "((8028, 3), (8028,))"
      ]
     },
     "execution_count": 232,
     "metadata": {},
     "output_type": "execute_result"
    }
   ],
   "source": [
    "X.shape , y.shape"
   ]
  },
  {
   "cell_type": "code",
   "execution_count": 233,
   "id": "3a8e1ca3",
   "metadata": {},
   "outputs": [
    {
     "data": {
      "text/plain": [
       "0       1\n",
       "1       1\n",
       "2       0\n",
       "3       0\n",
       "4       0\n",
       "       ..\n",
       "8123    1\n",
       "8124    0\n",
       "8125    1\n",
       "8126    1\n",
       "8127    1\n",
       "Name: selling_price, Length: 8028, dtype: category\n",
       "Categories (4, int64): [0 < 1 < 2 < 3]"
      ]
     },
     "execution_count": 233,
     "metadata": {},
     "output_type": "execute_result"
    }
   ],
   "source": [
    "# convert continuous y-values into categorical data {0, 1, 2, 3}\n",
    "# I use pd.qcut to have a balance dataset.\n",
    "y, c = pd.qcut(y, 4, labels=[0, 1, 2, 3], retbins = True)\n",
    "y"
   ]
  },
  {
   "attachments": {},
   "cell_type": "markdown",
   "metadata": {},
   "source": [
    "### Train test split"
   ]
  },
  {
   "cell_type": "code",
   "execution_count": 235,
   "metadata": {},
   "outputs": [],
   "source": [
    "from sklearn.model_selection import train_test_split\n",
    "X_train, X_test, y_train, y_test = train_test_split(X, y, test_size = 0.2, random_state = 42)\n",
    "\n",
    "m = X.shape[0]  #number of samples\n",
    "n = X.shape[1]  #number of features"
   ]
  },
  {
   "cell_type": "code",
   "execution_count": 236,
   "id": "727028fc",
   "metadata": {},
   "outputs": [
    {
     "data": {
      "text/plain": [
       "((6422, 3), (1606, 3))"
      ]
     },
     "execution_count": 236,
     "metadata": {},
     "output_type": "execute_result"
    }
   ],
   "source": [
    "X_train.shape , X_test.shape"
   ]
  },
  {
   "cell_type": "code",
   "execution_count": 237,
   "id": "3653c138",
   "metadata": {},
   "outputs": [
    {
     "data": {
      "text/plain": [
       "((6422,), (1606,))"
      ]
     },
     "execution_count": 237,
     "metadata": {},
     "output_type": "execute_result"
    }
   ],
   "source": [
    "y_train.shape , y_test.shape"
   ]
  },
  {
   "attachments": {},
   "cell_type": "markdown",
   "id": "acfea971",
   "metadata": {},
   "source": [
    "## 5. Preprocessing"
   ]
  },
  {
   "attachments": {},
   "cell_type": "markdown",
   "id": "bbd4215d",
   "metadata": {},
   "source": [
    "### Null values"
   ]
  },
  {
   "cell_type": "code",
   "execution_count": 238,
   "id": "e079b78b",
   "metadata": {},
   "outputs": [
    {
     "data": {
      "text/plain": [
       "year           0\n",
       "mileage      171\n",
       "max_power    165\n",
       "dtype: int64"
      ]
     },
     "execution_count": 238,
     "metadata": {},
     "output_type": "execute_result"
    }
   ],
   "source": [
    "#check for null values\n",
    "X_train[['year', 'mileage','max_power']].isna().sum()"
   ]
  },
  {
   "cell_type": "code",
   "execution_count": 239,
   "id": "21c17fd4",
   "metadata": {},
   "outputs": [
    {
     "data": {
      "text/plain": [
       "year          0\n",
       "mileage      43\n",
       "max_power    43\n",
       "dtype: int64"
      ]
     },
     "execution_count": 239,
     "metadata": {},
     "output_type": "execute_result"
    }
   ],
   "source": [
    "X_test[['year', 'mileage','max_power']].isna().sum()"
   ]
  },
  {
   "cell_type": "code",
   "execution_count": 240,
   "id": "b8c22c75",
   "metadata": {},
   "outputs": [
    {
     "data": {
      "text/plain": [
       "np.int64(0)"
      ]
     },
     "execution_count": 240,
     "metadata": {},
     "output_type": "execute_result"
    }
   ],
   "source": [
    "y_train.isna().sum()"
   ]
  },
  {
   "cell_type": "code",
   "execution_count": 241,
   "id": "7cb06f60",
   "metadata": {},
   "outputs": [
    {
     "data": {
      "text/plain": [
       "np.int64(0)"
      ]
     },
     "execution_count": 241,
     "metadata": {},
     "output_type": "execute_result"
    }
   ],
   "source": [
    "y_test.isna().sum()"
   ]
  },
  {
   "cell_type": "code",
   "execution_count": 242,
   "id": "5f861942",
   "metadata": {},
   "outputs": [
    {
     "data": {
      "text/plain": [
       "<seaborn.axisgrid.FacetGrid at 0x119939e40>"
      ]
     },
     "execution_count": 242,
     "metadata": {},
     "output_type": "execute_result"
    },
    {
     "data": {
      "image/png": "[encoded data removed]",
      "text/plain": [
       "<Figure size 500x500 with 1 Axes>"
      ]
     },
     "metadata": {},
     "output_type": "display_data"
    }
   ],
   "source": [
    "sns.displot(data=df, x='max_power')"
   ]
  },
  {
   "cell_type": "code",
   "execution_count": 243,
   "id": "12c19471",
   "metadata": {},
   "outputs": [
    {
     "data": {
      "text/plain": [
       "<seaborn.axisgrid.FacetGrid at 0x11916b340>"
      ]
     },
     "execution_count": 243,
     "metadata": {},
     "output_type": "execute_result"
    },
    {
     "data": {
      "image/png": "[encoded data removed]",
      "text/plain": [
       "<Figure size 500x500 with 1 Axes>"
      ]
     },
     "metadata": {},
     "output_type": "display_data"
    }
   ],
   "source": [
    "sns.displot(data=df, x='mileage')"
   ]
  },
  {
   "cell_type": "code",
   "execution_count": 244,
   "id": "d4b00c59",
   "metadata": {},
   "outputs": [
    {
     "data": {
      "text/plain": [
       "<seaborn.axisgrid.FacetGrid at 0x119b91180>"
      ]
     },
     "execution_count": 244,
     "metadata": {},
     "output_type": "execute_result"
    },
    {
     "data": {
      "image/png": "[encoded data removed]",
      "text/plain": [
       "<Figure size 500x500 with 1 Axes>"
      ]
     },
     "metadata": {},
     "output_type": "display_data"
    }
   ],
   "source": [
    "sns.displot(data=df, x='year')"
   ]
  },
  {
   "cell_type": "code",
   "execution_count": 245,
   "id": "8563e333",
   "metadata": {},
   "outputs": [],
   "source": [
    "#let's fill the training set first!\n",
    "X_train['mileage'].fillna(X_train['mileage'].median(), inplace=True)\n",
    "X_train['max_power'].fillna(X_train['max_power'].median(), inplace=True)"
   ]
  },
  {
   "cell_type": "code",
   "execution_count": 246,
   "id": "acff1a51",
   "metadata": {},
   "outputs": [],
   "source": [
    "X_test['mileage'].fillna(X_train['mileage'].median(), inplace=True)\n",
    "X_test['max_power'].fillna(X_train['max_power'].median(), inplace=True)"
   ]
  },
  {
   "cell_type": "code",
   "execution_count": 247,
   "id": "ef8a4883",
   "metadata": {},
   "outputs": [
    {
     "data": {
      "text/plain": [
       "year         0\n",
       "mileage      0\n",
       "max_power    0\n",
       "dtype: int64"
      ]
     },
     "execution_count": 247,
     "metadata": {},
     "output_type": "execute_result"
    }
   ],
   "source": [
    "#check again\n",
    "X_train[['year', 'mileage','max_power']].isna().sum()"
   ]
  },
  {
   "cell_type": "code",
   "execution_count": 248,
   "id": "5bc75e31",
   "metadata": {},
   "outputs": [
    {
     "data": {
      "text/plain": [
       "year         0\n",
       "mileage      0\n",
       "max_power    0\n",
       "dtype: int64"
      ]
     },
     "execution_count": 248,
     "metadata": {},
     "output_type": "execute_result"
    }
   ],
   "source": [
    "X_test[['year', 'mileage','max_power']].isna().sum()"
   ]
  },
  {
   "cell_type": "code",
   "execution_count": 249,
   "id": "f46c274d",
   "metadata": {},
   "outputs": [
    {
     "data": {
      "text/plain": [
       "(np.int64(0), np.int64(0))"
      ]
     },
     "execution_count": 249,
     "metadata": {},
     "output_type": "execute_result"
    }
   ],
   "source": [
    "y_train.isna().sum(), y_test.isna().sum()"
   ]
  },
  {
   "attachments": {},
   "cell_type": "markdown",
   "id": "9b80cd03",
   "metadata": {},
   "source": [
    "### Checking Outliers"
   ]
  },
  {
   "cell_type": "code",
   "execution_count": 250,
   "id": "2bb13273",
   "metadata": {},
   "outputs": [
    {
     "data": {
      "image/png": "[encoded data removed]",
      "text/plain": [
       "<Figure size 2000x3000 with 3 Axes>"
      ]
     },
     "metadata": {},
     "output_type": "display_data"
    }
   ],
   "source": [
    "# Create a dictionary of columns.\n",
    "col_dict = {'year':1,'mileage':2, 'max_power':3}\n",
    "\n",
    "# Detect outliers in each variable using box plots.\n",
    "plt.figure(figsize=(20,30))\n",
    "\n",
    "for variable,i in col_dict.items():\n",
    "                     plt.subplot(5,4,i)\n",
    "                     plt.boxplot(X_train[variable])\n",
    "                     plt.title(variable)\n",
    "\n",
    "plt.show()"
   ]
  },
  {
   "cell_type": "code",
   "execution_count": 251,
   "id": "1d646458",
   "metadata": {},
   "outputs": [],
   "source": [
    "def outlier_count(col, data = X_train):\n",
    "    \n",
    "    # calculate your 25% quatile and 75% quatile\n",
    "    q75, q25 = np.percentile(data[col], [75, 25])\n",
    "    \n",
    "    # calculate your inter quatile\n",
    "    iqr = q75 - q25\n",
    "    \n",
    "    # min_val and max_val\n",
    "    min_val = q25 - (iqr*1.5)\n",
    "    max_val = q75 + (iqr*1.5)\n",
    "    \n",
    "    # count number of outliers, which are the data that are less than min_val or more than max_val calculated above\n",
    "    outlier_count = len(np.where((data[col] > max_val) | (data[col] < min_val))[0])\n",
    "    \n",
    "    # calculate the percentage of the outliers\n",
    "    outlier_percent = round(outlier_count/len(data[col])*100, 2)\n",
    "    \n",
    "    if(outlier_count > 0):\n",
    "        print(\"\\n\"+15*'-' + col + 15*'-'+\"\\n\")\n",
    "        print('Number of outliers: {}'.format(outlier_count))\n",
    "        print('Percent of data that is outlier: {}%'.format(outlier_percent))"
   ]
  },
  {
   "cell_type": "code",
   "execution_count": 252,
   "id": "4daac8a4",
   "metadata": {},
   "outputs": [
    {
     "name": "stdout",
     "output_type": "stream",
     "text": [
      "\n",
      "---------------year---------------\n",
      "\n",
      "Number of outliers: 63\n",
      "Percent of data that is outlier: 0.98%\n",
      "\n",
      "---------------mileage---------------\n",
      "\n",
      "Number of outliers: 16\n",
      "Percent of data that is outlier: 0.25%\n",
      "\n",
      "---------------max_power---------------\n",
      "\n",
      "Number of outliers: 459\n",
      "Percent of data that is outlier: 7.15%\n"
     ]
    }
   ],
   "source": [
    "for col in X_train.columns:\n",
    "    outlier_count(col)"
   ]
  },
  {
   "attachments": {},
   "cell_type": "markdown",
   "metadata": {},
   "source": [
    "### Scaling"
   ]
  },
  {
   "cell_type": "code",
   "execution_count": 253,
   "metadata": {},
   "outputs": [],
   "source": [
    "from sklearn.preprocessing import StandardScaler\n",
    "\n",
    "# feature scaling helps improve reach convergence faster\n",
    "scaler = StandardScaler()\n",
    "X_train = scaler.fit_transform(X_train)\n",
    "X_test  = scaler.transform(X_test)"
   ]
  },
  {
   "cell_type": "code",
   "execution_count": 254,
   "metadata": {},
   "outputs": [
    {
     "name": "stdout",
     "output_type": "stream",
     "text": [
      "Shape of X_train:  (6422, 3)\n",
      "Shape of X_test:  (1606, 3)\n",
      "Shape of y_train:  (6422,)\n",
      "Shape of y_test:  (1606,)\n"
     ]
    }
   ],
   "source": [
    "# Let's check shapes of all X_train, X_test, y_train, y_test\n",
    "print(\"Shape of X_train: \", X_train.shape)\n",
    "print(\"Shape of X_test: \", X_test.shape)\n",
    "print(\"Shape of y_train: \", y_train.shape)\n",
    "print(\"Shape of y_test: \", y_test.shape)"
   ]
  },
  {
   "cell_type": "code",
   "execution_count": 256,
   "id": "ff7d17f7",
   "metadata": {},
   "outputs": [
    {
     "name": "stdout",
     "output_type": "stream",
     "text": [
      "Shape of X_train:  (6422, 4)\n",
      "Shape of X_test:  (1606, 4)\n",
      "Shape of y_train:  (6422,)\n",
      "Shape of y_test:  (1606,)\n"
     ]
    }
   ],
   "source": [
    "#check again\n",
    "print(\"Shape of X_train: \", X_train.shape)\n",
    "print(\"Shape of X_test: \", X_test.shape)\n",
    "print(\"Shape of y_train: \", y_train.shape)\n",
    "print(\"Shape of y_test: \", y_test.shape)"
   ]
  },
  {
   "cell_type": "code",
   "execution_count": 255,
   "id": "2616e84a",
   "metadata": {},
   "outputs": [],
   "source": [
    "# Adding intercepts to include a bias in theta\n",
    "# actually you can do like this too\n",
    "# X = np.insert(X, 0, 1, axis=1)\n",
    "intercept = np.ones((X_train.shape[0], 1))\n",
    "X_train   = np.concatenate((intercept, X_train), axis=1)\n",
    "intercept = np.ones((X_test.shape[0], 1))\n",
    "X_test    = np.concatenate((intercept, X_test), axis=1)"
   ]
  },
  {
   "cell_type": "code",
   "execution_count": 257,
   "id": "034b3a69",
   "metadata": {},
   "outputs": [],
   "source": [
    "k = len(set(y))  # no. of class  (can also use np.unique)\n",
    "m = X_train.shape[0]  # no.of samples\n",
    "n = X_train.shape[1]  # no. of features\n",
    "Y_train_encoded = np.zeros((m, k))\n",
    "for each_class in range(k):\n",
    "    cond = y_train==each_class\n",
    "    Y_train_encoded[np.where(cond), each_class] = 1"
   ]
  },
  {
   "attachments": {},
   "cell_type": "markdown",
   "metadata": {},
   "source": [
    "## 6. Modeling"
   ]
  },
  {
   "cell_type": "code",
   "execution_count": 258,
   "id": "453a7bbc",
   "metadata": {},
   "outputs": [],
   "source": [
    "#experiment tracking\n",
    "import mlflow\n",
    "import os\n",
    "import logging\n",
    "\n",
    "mlflow.set_tracking_uri(\"https://mlflow.ml.brain.cs.ait.ac.th\")\n",
    "os.environ['MLFLOW_TRACKING_USERNAME'] = 'admin'\n",
    "os.environ['MLFLOW_TRACKING_PASSWORD'] = 'password'\n",
    "mlflow.set_experiment(experiment_name=\"st124642-a3\")\n",
    "\n",
    "logging.getLogger(\"mlflow\").setLevel(logging.WARNING)"
   ]
  },
  {
   "cell_type": "code",
   "execution_count": 259,
   "id": "a250430c",
   "metadata": {},
   "outputs": [],
   "source": [
    "class PolynomialFeatures:\n",
    "    def __init__(self, degree):\n",
    "        self.degree = degree\n",
    "    \n",
    "    def fit_transform(self, X):\n",
    "        # Transform input features to include polynomial terms\n",
    "        X_poly = np.column_stack([X ** self.degree])\n",
    "        return X_poly"
   ]
  },
  {
   "cell_type": "code",
   "execution_count": 265,
   "id": "a005d01f",
   "metadata": {},
   "outputs": [],
   "source": [
    "import time\n",
    "from sklearn.metrics import classification_report\n",
    "from sklearn.model_selection import KFold\n",
    "from math import sqrt, isnan\n",
    "\n",
    "class LogisticRegression:\n",
    "\n",
    "    def __init__(self, k, n, m, method, init_theta, momentum, alpha, max_iter):\n",
    "        self.k = k\n",
    "        self.n = n\n",
    "        self.m = m\n",
    "        self.cv = KFold(n_splits=3)\n",
    "        self.alpha = alpha\n",
    "        self.max_iter = max_iter\n",
    "        self.method = method\n",
    "        self.init_theta = init_theta\n",
    "        self.momentum = momentum\n",
    "        self.prev_step = 0\n",
    "        \n",
    "        \n",
    "    \n",
    "    def fit(self, X_train, y_train):\n",
    "        self.kfold_accuracy = list()\n",
    "        self.kfold_f1 = list()\n",
    "        self.kfold_recall = list()\n",
    "        self.kfold_precision = list()\n",
    "\n",
    "        self.losses = []\n",
    "\n",
    "        self.n = X_train.shape[1]\n",
    "\n",
    "        #reset val loss\n",
    "        self.val_loss_old = np.inf\n",
    "\n",
    "        start_time = time.time()\n",
    "        for fold, (train_idx, val_idx) in enumerate(self.cv.split(X_train)):\n",
    "            X_cross_train = X_train[train_idx]\n",
    "            y_cross_train = y_train[train_idx]\n",
    "            X_cross_val   = X_train[val_idx]\n",
    "            y_cross_val   = y_train[val_idx]\n",
    "\n",
    "            # reset the prev_step for each fold.\n",
    "            self.prev_step = 0\n",
    "            \n",
    "            # initialize theta\n",
    "            if self.init_theta == 'zero':\n",
    "                self.W = np.zeros((self.n, self.k))\n",
    "            else:\n",
    "                m = X_cross_train.shape[1]\n",
    "                sqrt_m = sqrt(m)\n",
    "                lower, upper = -(1 / sqrt_m), (1 / sqrt_m)\n",
    "                numbers = np.random.uniform(lower, upper, size = (self.n, self.k))\n",
    "                scaled = lower + numbers * (upper - lower)\n",
    "                self.W = scaled\n",
    "\n",
    "            perm = np.random.permutation(X_cross_train.shape[0])\n",
    "            X_cross_train = X_cross_train[perm]\n",
    "            y_cross_train = y_cross_train[perm]\n",
    "\n",
    "            # Batch Gradient Descent\n",
    "            if self.method == \"batch\":\n",
    "                \n",
    "                for i in range(self.max_iter):\n",
    "                    loss =  self.gradient(X_cross_train, y_cross_train)\n",
    "            \n",
    "            # Minibatch Gradient Descent\n",
    "            elif self.method == \"minibatch\":\n",
    "                start_time = time.time()\n",
    "                batch_size = int(0.3 * X.shape[0])\n",
    "                for i in range(self.max_iter):\n",
    "\n",
    "                    ix = np.random.randint(0, X_cross_train.shape[0]) #<----with replacement\n",
    "                    batch_X = X_cross_train[ix:ix+batch_size]\n",
    "                    batch_Y = y_cross_train[ix:ix+batch_size]\n",
    "                    loss = self.gradient(batch_X, batch_Y)\n",
    "\n",
    "            # Stochastic Gradient Descent\n",
    "            elif self.method == \"sto\":\n",
    "                list_of_used_ix = [] # without replacement\n",
    "\n",
    "                for i in range(self.max_iter):\n",
    "                    idx = np.random.randint(X_cross_train.shape[0])\n",
    "                    while i in list_of_used_ix:\n",
    "                        idx = np.random.randint(X_cross_train.shape[0])\n",
    "\n",
    "                    sto_x = X_cross_train[idx, :].reshape(1, -1)\n",
    "                    sto_y = y_cross_train[idx]\n",
    "                    loss = self.gradient(sto_x, sto_y)\n",
    "                    \n",
    "                    list_of_used_ix.append(i)\n",
    "                    if len(list_of_used_ix) == X.shape[0]:\n",
    "                        list_of_used_ix = []\n",
    "\n",
    "            else:\n",
    "                raise ValueError('Method must be one of the followings: \"batch\", \"minibatch\" or \"sto\".')\n",
    "\n",
    "            # Compute some matrics to measure current model's performance\n",
    "            yhat_val = self.predict(X_cross_val)\n",
    "            ytrue_val = self._decodeY(y_cross_val)\n",
    "            val_f1 = self.weighted_f1(ytrue_val, yhat_val)\n",
    "            val_accuracy = self.accuracy(ytrue_val, yhat_val)\n",
    "\n",
    "            self.kfold_accuracy.append(val_accuracy)\n",
    "            self.kfold_f1.append(val_f1)\n",
    "        \n",
    "        print(f\"Time taken: {time.time() - start_time}\")\n",
    "\n",
    "        \n",
    "    def gradient(self, X, Y):\n",
    "        m = X.shape[0]\n",
    "        h = self.h_theta(X, self.W)\n",
    "        loss = - np.sum(Y*np.log(h)) / m\n",
    "        error = h - Y\n",
    "\n",
    "        grad = self.softmax_grad(X, error)\n",
    "        \n",
    "        step = self.alpha * grad + self.regularization.derivation(self.W)\n",
    "        step += self.momentum * self.prev_step\n",
    "\n",
    "        self.W -= step\n",
    "        self.prev_step = step\n",
    "\n",
    "        return loss\n",
    "\n",
    "    def softmax(self, theta_t_x):\n",
    "\n",
    "        return np.exp(theta_t_x) / np.sum(np.exp(theta_t_x), axis=1, keepdims=True)\n",
    "\n",
    "    def softmax_grad(self, X, error):\n",
    "        return  X.T @ error\n",
    "\n",
    "    def h_theta(self, X, W):\n",
    "        '''\n",
    "        Input:\n",
    "            X shape: (m, n)\n",
    "            w shape: (n, k)\n",
    "        Returns:\n",
    "            yhat shape: (m, k)\n",
    "        '''\n",
    "\n",
    "        prediction = self.softmax(X @ W)\n",
    "        return prediction\n",
    "    \n",
    "    def getThetas(self):\n",
    "        return self.W\n",
    "    \n",
    "    def predict(self, X_test):\n",
    "        return np.argmax(self.h_theta(X_test, self.W), axis=1)\n",
    "    \n",
    "    def avgKfoldAccuracy(self):\n",
    "        return np.sum(np.array(self.kfold_accuracy)) / len(self.kfold_accuracy)\n",
    "    \n",
    "    def avgKfoldf1(self):\n",
    "        return np.sum(np.array(self.kfold_f1)) / len(self.kfold_f1)\n",
    "\n",
    "    def plot(self):\n",
    "        plt.plot(np.arange(len(self.losses)) , self.losses, label = \"Train Losses\")\n",
    "        plt.title(\"Losses\")\n",
    "        plt.xlabel(\"epoch\")\n",
    "        plt.ylabel(\"losses\")\n",
    "        plt.legend()\n",
    "    \n",
    "    def accuracy(self, ytrue, yhat):    \n",
    "        match = yhat == ytrue\n",
    "        return match.sum() / match.value_counts().sum()\n",
    "    \n",
    "    # decode one hot array into integers.\n",
    "    def _decodeY(self, y):\n",
    "        return pd.Series(np.argmax(y, axis=1))\n",
    "    \n",
    "    # encode y label into one hot array.\n",
    "    def _encodeY(self, y):\n",
    "        m = y.shape[0]\n",
    "        k = self.k\n",
    "        \n",
    "        if y.ndim == 2:\n",
    "            return y\n",
    "        \n",
    "        encodedY = np.zeros((m, k))\n",
    "        for each_class in range(k):\n",
    "            cond = (y == each_class)\n",
    "            encodedY[np.where(cond), each_class] = 1\n",
    "        \n",
    "        return encodedY\n",
    "    \n",
    "    def precision(self, ytrue, yhat):\n",
    "        TP, _, FP = self.confusion_matrix(ytrue, yhat)\n",
    "        precision = TP / (TP + FP)\n",
    "        return precision\n",
    "    \n",
    "    def recall(self, ytrue, yhat):\n",
    "        TP, FN, _ = self.confusion_matrix(ytrue, yhat)\n",
    "        recall = TP / (TP + FN)\n",
    "        return recall\n",
    "    \n",
    "    def f1(self, ytrue, yhat):\n",
    "        precision = self.precision(ytrue, yhat)\n",
    "        recall = self.recall(ytrue, yhat)\n",
    "        \n",
    "        f1 = (2 * precision * recall) / (precision + recall)\n",
    "        return f1\n",
    "    \n",
    "    def macro_precision(self, ytrue, yhat):\n",
    "        precision = self.precision(ytrue, yhat)\n",
    "        return np.mean(precision)\n",
    "    \n",
    "    def macro_recall(self, ytrue, yhat):\n",
    "        recall = self.recall(ytrue, yhat)\n",
    "        return np.mean(recall)\n",
    "    \n",
    "    def macro_f1(self, ytrue, yhat):\n",
    "        f1 = self.f1(ytrue, yhat)\n",
    "        return np.mean(f1)\n",
    "    \n",
    "    def weighted_precision(self, ytrue, yhat):\n",
    "        precision = self.precision(ytrue, yhat)\n",
    "        weights = ytrue.value_counts().sort_index() / ytrue.value_counts().sum()\n",
    "        return (precision * weights).sum()\n",
    "    \n",
    "    def weighted_recall(self, ytrue, yhat):\n",
    "        recall = self.recall(ytrue, yhat)\n",
    "        weights = ytrue.value_counts().sort_index() / ytrue.value_counts().sum()\n",
    "        return (recall * weights).sum()\n",
    "    \n",
    "    def weighted_f1(self, ytrue, yhat):\n",
    "        f1 = self.f1(ytrue, yhat)\n",
    "        weights = ytrue.value_counts().sort_index() / ytrue.value_counts().sum()\n",
    "        return (f1 * weights).sum()\n",
    "    \n",
    "    def support(self, ytrue):\n",
    "        return ytrue.value_counts().sort_index().values\n",
    "    \n",
    "    # Compute TP, FP and FN rates for each class.\n",
    "    def confusion_matrix(self, ytrue, yhat):\n",
    "        \n",
    "        Y_true_encoded = self._encodeY(ytrue)\n",
    "        Y_hat_encoded = self._encodeY(yhat)\n",
    "        confusion_matrix = (Y_true_encoded.T @ Y_hat_encoded).astype('int64')\n",
    "        \n",
    "        TP = []\n",
    "        FN = []\n",
    "        FP = []\n",
    "        \n",
    "        for c in range(k):\n",
    "            TP_c = confusion_matrix[c][c]\n",
    "            TP.append(TP_c)\n",
    "            \n",
    "            FN_c = confusion_matrix[c].sum() - TP_c\n",
    "            FN.append(FN_c)\n",
    "            \n",
    "            FP_c = confusion_matrix[:, c].sum() - TP_c\n",
    "            FP.append(FP_c)\n",
    "        \n",
    "        TP = np.array(TP)\n",
    "        FN = np.array(FN)\n",
    "        FP = np.array(FP)\n",
    "        \n",
    "        \n",
    "        return (TP, FN, FP)\n",
    "    \n",
    "    def classification_report(self, ytrue, yhat):\n",
    "        accuracy = self.accuracy(ytrue, yhat).round(2)\n",
    "        precision = self.precision(ytrue, yhat).round(2)\n",
    "        recall = self.recall(ytrue, yhat).round(2)\n",
    "        f1 = self.f1(ytrue, yhat).round(2)\n",
    "        support = self.support(ytrue).round(2)\n",
    "        \n",
    "        macro_precision = self.macro_precision(ytrue, yhat).round(2)\n",
    "        macro_recall = self.macro_recall(ytrue, yhat).round(2)\n",
    "        macro_f1 = self.macro_f1(ytrue, yhat).round(2)\n",
    "        \n",
    "        weighted_precision = self.weighted_precision(ytrue, yhat).round(2)\n",
    "        weighted_recall = self.weighted_recall(ytrue, yhat).round(2)\n",
    "        weighted_f1 = self.weighted_f1(ytrue, yhat).round(2)\n",
    "    \n",
    "        print(\"Report\\t\\t\", \"precision\\t\", \"recall\\t\\t\", \"f1-score\\t\", \"support\\n\")\n",
    "        for c in range(k):\n",
    "            print(c, \"\\t\\t\", precision[c], \"\\t\\t\", recall[c], \"\\t\\t\", f1[c], \"\\t\\t\", support[c])\n",
    "        \n",
    "        print()\n",
    "        print('accuracy\\t\\t\\t\\t\\t', accuracy, '\\t\\t', str(ytrue.shape[0]))\n",
    "        print(\"macro avg\\t \" + str(macro_precision) + \"\\t\\t \" + str(macro_recall) + \"\\t\\t \" + str(macro_f1) + \"\\t\\t \" + str(ytrue.shape[0]))\n",
    "        print(\"weighted avg\\t \" + str(weighted_precision) + \"\\t\\t \" + str(weighted_recall) + \"\\t\\t \" + str(weighted_f1) + \"\\t\\t \" + str(ytrue.shape[0]))"
   ]
  },
  {
   "cell_type": "code",
   "execution_count": 266,
   "id": "69c29959",
   "metadata": {},
   "outputs": [],
   "source": [
    "class NoRegularization:\n",
    "    \n",
    "    def __init__(self, l):\n",
    "        self.l = l # lambda value\n",
    "        \n",
    "    def __call__(self, theta): #__call__ allows us to call class as method\n",
    "        return 0\n",
    "        \n",
    "    def derivation(self, theta): # return 0, since we won't have any regularization.\n",
    "        return 0\n",
    "\n",
    "class RidgePenalty:\n",
    "    \n",
    "    def __init__(self, l):\n",
    "        self.l = l\n",
    "        \n",
    "    def __call__(self, theta): #__call__ allows us to call class as method\n",
    "        return self.l * np.sum(np.square(theta))\n",
    "        \n",
    "    def derivation(self, theta):\n",
    "        return self.l * 2 * theta\n",
    "        \n",
    "class Normal(LogisticRegression):\n",
    "    \n",
    "    def __init__(self, k, n, m, method, init_theta, momentum, alpha, max_iter, l = 0.001):\n",
    "        self.regularization = NoRegularization(l)\n",
    "        super().__init__(k, n, m, method, init_theta, momentum,  alpha, max_iter)\n",
    "        \n",
    "class Ridge(LogisticRegression):\n",
    "    \n",
    "    def __init__(self, k, n, m, method, init_theta, momentum, alpha, max_iter, l = 0.001):\n",
    "        self.regularization = RidgePenalty(l)\n",
    "        super().__init__(k, n, m, method, init_theta, momentum, alpha, max_iter)"
   ]
  },
  {
   "cell_type": "code",
   "execution_count": 267,
   "id": "2a5c46c5",
   "metadata": {},
   "outputs": [],
   "source": [
    "import math\n",
    "\n",
    "# Define possible hyper parameters\n",
    "regs = [\"Normal\", \"Ridge\"]\n",
    "momentums = [0, 0.4]\n",
    "grads = ['sto', 'minibatch', 'batch']\n",
    "init_thetas = ['zero', 'xavier']\n",
    "alphas = [0.01, 0.001, 0.0001]"
   ]
  },
  {
   "cell_type": "code",
   "execution_count": 268,
   "id": "66e18704",
   "metadata": {},
   "outputs": [],
   "source": [
    "import sys\n",
    "\n",
    "def str_to_class(classname):\n",
    "    return getattr(sys.modules[__name__], classname)"
   ]
  },
  {
   "cell_type": "code",
   "execution_count": 269,
   "id": "c35e786b",
   "metadata": {},
   "outputs": [
    {
     "name": "stdout",
     "output_type": "stream",
     "text": [
      "reg-Normal-momemtum0-method-sto-theta-zero-alpha-0.01\n",
      "Time taken: 0.0322260856628418\n",
      "Average Accuracy: 0.5345759471292566\n",
      "Average f1: 0.4912262812575923\n",
      "🏃 View run reg-Normal-momemtum0-method-sto-theta-zero-alpha-0.01 at: https://mlflow.ml.brain.cs.ait.ac.th/#/experiments/742878610382977256/runs/91554031a21e4d1f88bb54a1ce914ecd\n",
      "🧪 View experiment at: https://mlflow.ml.brain.cs.ait.ac.th/#/experiments/742878610382977256\n",
      "reg-Normal-momemtum0-method-sto-theta-zero-alpha-0.001\n",
      "Time taken: 0.012490034103393555\n",
      "Average Accuracy: 0.5392342938126854\n",
      "Average f1: 0.4731471944528274\n",
      "🏃 View run reg-Normal-momemtum0-method-sto-theta-zero-alpha-0.001 at: https://mlflow.ml.brain.cs.ait.ac.th/#/experiments/742878610382977256/runs/8866ce8b5a85475ebd5eb49adfc9a51c\n",
      "🧪 View experiment at: https://mlflow.ml.brain.cs.ait.ac.th/#/experiments/742878610382977256\n",
      "reg-Normal-momemtum0-method-sto-theta-zero-alpha-0.0001\n",
      "Time taken: 0.0158538818359375\n",
      "Average Accuracy: 0.5398593838439836\n",
      "Average f1: 0.4822881653651672\n",
      "🏃 View run reg-Normal-momemtum0-method-sto-theta-zero-alpha-0.0001 at: https://mlflow.ml.brain.cs.ait.ac.th/#/experiments/742878610382977256/runs/15faad5e644c40c7a21a10c768d2133c\n",
      "🧪 View experiment at: https://mlflow.ml.brain.cs.ait.ac.th/#/experiments/742878610382977256\n",
      "reg-Normal-momemtum0-method-sto-theta-xavier-alpha-0.01\n",
      "Time taken: 0.025262832641601562\n",
      "Average Accuracy: 0.4028209806754639\n",
      "Average f1: 0.32591071887029793\n",
      "🏃 View run reg-Normal-momemtum0-method-sto-theta-xavier-alpha-0.01 at: https://mlflow.ml.brain.cs.ait.ac.th/#/experiments/742878610382977256/runs/96ade51af5284c1e87d742e0da481b31\n",
      "🧪 View experiment at: https://mlflow.ml.brain.cs.ait.ac.th/#/experiments/742878610382977256\n",
      "reg-Normal-momemtum0-method-sto-theta-xavier-alpha-0.001\n",
      "Time taken: 0.018580913543701172\n",
      "Average Accuracy: 0.28622190114090573\n",
      "Average f1: 0.23114657262394767\n",
      "🏃 View run reg-Normal-momemtum0-method-sto-theta-xavier-alpha-0.001 at: https://mlflow.ml.brain.cs.ait.ac.th/#/experiments/742878610382977256/runs/331809a7593e4dbd97a13ab91077b6b3\n",
      "🧪 View experiment at: https://mlflow.ml.brain.cs.ait.ac.th/#/experiments/742878610382977256\n",
      "reg-Normal-momemtum0-method-sto-theta-xavier-alpha-0.0001\n",
      "Time taken: 0.019121170043945312\n",
      "Average Accuracy: 0.29834189631013547\n",
      "Average f1: 0.2682570457539572\n",
      "🏃 View run reg-Normal-momemtum0-method-sto-theta-xavier-alpha-0.0001 at: https://mlflow.ml.brain.cs.ait.ac.th/#/experiments/742878610382977256/runs/64bafe93f3124bceaf1f800afa6734b5\n",
      "🧪 View experiment at: https://mlflow.ml.brain.cs.ait.ac.th/#/experiments/742878610382977256\n",
      "reg-Normal-momemtum0-method-minibatch-theta-zero-alpha-0.01\n",
      "Time taken: 0.010223865509033203\n",
      "Average Accuracy: 0.5585629040495532\n",
      "Average f1: 0.5290965954881607\n",
      "🏃 View run reg-Normal-momemtum0-method-minibatch-theta-zero-alpha-0.01 at: https://mlflow.ml.brain.cs.ait.ac.th/#/experiments/742878610382977256/runs/60a2f97523884c9290d08f9043fdfea1\n",
      "🧪 View experiment at: https://mlflow.ml.brain.cs.ait.ac.th/#/experiments/742878610382977256\n",
      "reg-Normal-momemtum0-method-minibatch-theta-zero-alpha-0.001\n",
      "Time taken: 0.007900238037109375\n",
      "Average Accuracy: 0.6387450328186817\n",
      "Average f1: 0.6397680878234063\n",
      "🏃 View run reg-Normal-momemtum0-method-minibatch-theta-zero-alpha-0.001 at: https://mlflow.ml.brain.cs.ait.ac.th/#/experiments/742878610382977256/runs/2af125b7a8204b1b96bed50df22ebabe\n",
      "🧪 View experiment at: https://mlflow.ml.brain.cs.ait.ac.th/#/experiments/742878610382977256\n",
      "reg-Normal-momemtum0-method-minibatch-theta-zero-alpha-0.0001\n",
      "Time taken: 0.009103059768676758\n",
      "Average Accuracy: 0.6035517074299284\n",
      "Average f1: 0.5796706739270215\n",
      "🏃 View run reg-Normal-momemtum0-method-minibatch-theta-zero-alpha-0.0001 at: https://mlflow.ml.brain.cs.ait.ac.th/#/experiments/742878610382977256/runs/38565001191d4bccab9216bc097387eb\n",
      "🧪 View experiment at: https://mlflow.ml.brain.cs.ait.ac.th/#/experiments/742878610382977256\n",
      "reg-Normal-momemtum0-method-minibatch-theta-xavier-alpha-0.01\n",
      "Time taken: 0.011284828186035156\n",
      "Average Accuracy: 0.5615047267340937\n",
      "Average f1: 0.550634603273607\n",
      "🏃 View run reg-Normal-momemtum0-method-minibatch-theta-xavier-alpha-0.01 at: https://mlflow.ml.brain.cs.ait.ac.th/#/experiments/742878610382977256/runs/72343d45c9214ce4a859389ee0478ec1\n",
      "🧪 View experiment at: https://mlflow.ml.brain.cs.ait.ac.th/#/experiments/742878610382977256\n",
      "reg-Normal-momemtum0-method-minibatch-theta-xavier-alpha-0.001\n",
      "Time taken: 0.010367870330810547\n",
      "Average Accuracy: 0.6385893423313704\n",
      "Average f1: 0.6384432875470974\n",
      "🏃 View run reg-Normal-momemtum0-method-minibatch-theta-xavier-alpha-0.001 at: https://mlflow.ml.brain.cs.ait.ac.th/#/experiments/742878610382977256/runs/cf3730f37d164ad7a5dd567c4035b691\n",
      "🧪 View experiment at: https://mlflow.ml.brain.cs.ait.ac.th/#/experiments/742878610382977256\n",
      "reg-Normal-momemtum0-method-minibatch-theta-xavier-alpha-0.0001\n",
      "Time taken: 0.010850191116333008\n",
      "Average Accuracy: 0.5982561937895501\n",
      "Average f1: 0.5760825240957261\n",
      "🏃 View run reg-Normal-momemtum0-method-minibatch-theta-xavier-alpha-0.0001 at: https://mlflow.ml.brain.cs.ait.ac.th/#/experiments/742878610382977256/runs/5a9e74cecea14502892d798626e507d5\n",
      "🧪 View experiment at: https://mlflow.ml.brain.cs.ait.ac.th/#/experiments/742878610382977256\n",
      "reg-Normal-momemtum0-method-batch-theta-zero-alpha-0.01\n",
      "Time taken: 0.05853581428527832\n",
      "Average Accuracy: 0.5601039488636776\n",
      "Average f1: 0.5245290280834253\n",
      "🏃 View run reg-Normal-momemtum0-method-batch-theta-zero-alpha-0.01 at: https://mlflow.ml.brain.cs.ait.ac.th/#/experiments/742878610382977256/runs/a9a9e5eae0104f38b3f7cbad0595c780\n",
      "🧪 View experiment at: https://mlflow.ml.brain.cs.ait.ac.th/#/experiments/742878610382977256\n",
      "reg-Normal-momemtum0-method-batch-theta-zero-alpha-0.001\n",
      "Time taken: 0.08592605590820312\n",
      "Average Accuracy: 0.646219267498083\n",
      "Average f1: 0.6480670680795458\n",
      "🏃 View run reg-Normal-momemtum0-method-batch-theta-zero-alpha-0.001 at: https://mlflow.ml.brain.cs.ait.ac.th/#/experiments/742878610382977256/runs/64a90e4a0c7a45c4bcef7beed75ea090\n",
      "🧪 View experiment at: https://mlflow.ml.brain.cs.ait.ac.th/#/experiments/742878610382977256\n",
      "reg-Normal-momemtum0-method-batch-theta-zero-alpha-0.0001\n",
      "Time taken: 0.08089804649353027\n",
      "Average Accuracy: 0.6245747976387427\n",
      "Average f1: 0.6168466723703002\n",
      "🏃 View run reg-Normal-momemtum0-method-batch-theta-zero-alpha-0.0001 at: https://mlflow.ml.brain.cs.ait.ac.th/#/experiments/742878610382977256/runs/21cdc7f935a34c00ad04848e19a938cc\n",
      "🧪 View experiment at: https://mlflow.ml.brain.cs.ait.ac.th/#/experiments/742878610382977256\n",
      "reg-Normal-momemtum0-method-batch-theta-xavier-alpha-0.01\n",
      "Time taken: 0.08291196823120117\n",
      "Average Accuracy: 0.5196204935242943\n",
      "Average f1: 0.4911931594028007\n",
      "🏃 View run reg-Normal-momemtum0-method-batch-theta-xavier-alpha-0.01 at: https://mlflow.ml.brain.cs.ait.ac.th/#/experiments/742878610382977256/runs/9bc658efcedb4becbe3a0e9a9b72d978\n",
      "🧪 View experiment at: https://mlflow.ml.brain.cs.ait.ac.th/#/experiments/742878610382977256\n",
      "reg-Normal-momemtum0-method-batch-theta-xavier-alpha-0.001\n",
      "Time taken: 0.08128881454467773\n",
      "Average Accuracy: 0.646219267498083\n",
      "Average f1: 0.6480192697345322\n",
      "🏃 View run reg-Normal-momemtum0-method-batch-theta-xavier-alpha-0.001 at: https://mlflow.ml.brain.cs.ait.ac.th/#/experiments/742878610382977256/runs/f0f3ea18d5214da294992dea117b5692\n",
      "🧪 View experiment at: https://mlflow.ml.brain.cs.ait.ac.th/#/experiments/742878610382977256\n",
      "reg-Normal-momemtum0-method-batch-theta-xavier-alpha-0.0001\n",
      "Time taken: 0.07363486289978027\n",
      "Average Accuracy: 0.625042960389139\n",
      "Average f1: 0.6166224297583035\n",
      "🏃 View run reg-Normal-momemtum0-method-batch-theta-xavier-alpha-0.0001 at: https://mlflow.ml.brain.cs.ait.ac.th/#/experiments/742878610382977256/runs/35b0837829a3452fbc33f97db2872b0d\n",
      "🧪 View experiment at: https://mlflow.ml.brain.cs.ait.ac.th/#/experiments/742878610382977256\n",
      "reg-Normal-momemtum0.4-method-sto-theta-zero-alpha-0.01\n",
      "Time taken: 0.01718616485595703\n",
      "Average Accuracy: 0.49984430951268877\n",
      "Average f1: 0.4160235396422809\n",
      "🏃 View run reg-Normal-momemtum0.4-method-sto-theta-zero-alpha-0.01 at: https://mlflow.ml.brain.cs.ait.ac.th/#/experiments/742878610382977256/runs/2de672c17e90440db25568d69f86d60e\n",
      "🧪 View experiment at: https://mlflow.ml.brain.cs.ait.ac.th/#/experiments/742878610382977256\n",
      "reg-Normal-momemtum0.4-method-sto-theta-zero-alpha-0.001\n",
      "Time taken: 0.022927045822143555\n",
      "Average Accuracy: 0.5384591879940809\n",
      "Average f1: 0.4809152271335975\n",
      "🏃 View run reg-Normal-momemtum0.4-method-sto-theta-zero-alpha-0.001 at: https://mlflow.ml.brain.cs.ait.ac.th/#/experiments/742878610382977256/runs/394dddf575094027be77f472d963f882\n",
      "🧪 View experiment at: https://mlflow.ml.brain.cs.ait.ac.th/#/experiments/742878610382977256\n",
      "reg-Normal-momemtum0.4-method-sto-theta-zero-alpha-0.0001\n",
      "Time taken: 0.015379905700683594\n",
      "Average Accuracy: 0.4796060012135128\n",
      "Average f1: 0.40820501010908977\n",
      "🏃 View run reg-Normal-momemtum0.4-method-sto-theta-zero-alpha-0.0001 at: https://mlflow.ml.brain.cs.ait.ac.th/#/experiments/742878610382977256/runs/7bc1b850fafd4181ba428f61ecc333e5\n",
      "🧪 View experiment at: https://mlflow.ml.brain.cs.ait.ac.th/#/experiments/742878610382977256\n",
      "reg-Normal-momemtum0.4-method-sto-theta-xavier-alpha-0.01\n",
      "Time taken: 0.027761220932006836\n",
      "Average Accuracy: 0.34069727512546183\n",
      "Average f1: 0.2872444484939738\n",
      "🏃 View run reg-Normal-momemtum0.4-method-sto-theta-xavier-alpha-0.01 at: https://mlflow.ml.brain.cs.ait.ac.th/#/experiments/742878610382977256/runs/b2329e0fd80f47269a7ad94b18319140\n",
      "🧪 View experiment at: https://mlflow.ml.brain.cs.ait.ac.th/#/experiments/742878610382977256\n",
      "reg-Normal-momemtum0.4-method-sto-theta-xavier-alpha-0.001\n",
      "Time taken: 0.02398085594177246\n",
      "Average Accuracy: 0.22158699533365053\n",
      "Average f1: 0.16112642248328116\n",
      "🏃 View run reg-Normal-momemtum0.4-method-sto-theta-xavier-alpha-0.001 at: https://mlflow.ml.brain.cs.ait.ac.th/#/experiments/742878610382977256/runs/a8fb67ba982a4a3a944e4a981db200f7\n",
      "🧪 View experiment at: https://mlflow.ml.brain.cs.ait.ac.th/#/experiments/742878610382977256\n",
      "reg-Normal-momemtum0.4-method-sto-theta-xavier-alpha-0.0001\n",
      "Time taken: 0.02388787269592285\n",
      "Average Accuracy: 0.32385192816120806\n",
      "Average f1: 0.28859841694383176\n",
      "🏃 View run reg-Normal-momemtum0.4-method-sto-theta-xavier-alpha-0.0001 at: https://mlflow.ml.brain.cs.ait.ac.th/#/experiments/742878610382977256/runs/9cdfa3f2f8644ceb88fcbb34561b7af1\n",
      "🧪 View experiment at: https://mlflow.ml.brain.cs.ait.ac.th/#/experiments/742878610382977256\n",
      "reg-Normal-momemtum0.4-method-minibatch-theta-zero-alpha-0.01\n",
      "Time taken: 0.011318206787109375\n",
      "Average Accuracy: 0.5630613405969495\n",
      "Average f1: 0.5274978638872119\n",
      "🏃 View run reg-Normal-momemtum0.4-method-minibatch-theta-zero-alpha-0.01 at: https://mlflow.ml.brain.cs.ait.ac.th/#/experiments/742878610382977256/runs/131132414fac401199356d28e557aac1\n",
      "🧪 View experiment at: https://mlflow.ml.brain.cs.ait.ac.th/#/experiments/742878610382977256\n",
      "reg-Normal-momemtum0.4-method-minibatch-theta-zero-alpha-0.001\n",
      "Time taken: 0.012613296508789062\n",
      "Average Accuracy: 0.6446627991403556\n",
      "Average f1: 0.646266727790906\n",
      "🏃 View run reg-Normal-momemtum0.4-method-minibatch-theta-zero-alpha-0.001 at: https://mlflow.ml.brain.cs.ait.ac.th/#/experiments/742878610382977256/runs/e42346fb50874c7ca3e376746192c27e\n",
      "🧪 View experiment at: https://mlflow.ml.brain.cs.ait.ac.th/#/experiments/742878610382977256\n",
      "reg-Normal-momemtum0.4-method-minibatch-theta-zero-alpha-0.0001\n",
      "Time taken: 0.010949850082397461\n",
      "Average Accuracy: 0.6133624634600247\n",
      "Average f1: 0.6010491826197786\n",
      "🏃 View run reg-Normal-momemtum0.4-method-minibatch-theta-zero-alpha-0.0001 at: https://mlflow.ml.brain.cs.ait.ac.th/#/experiments/742878610382977256/runs/46e79137dc3f4c9492ac32090719006d\n",
      "🧪 View experiment at: https://mlflow.ml.brain.cs.ait.ac.th/#/experiments/742878610382977256\n",
      "reg-Normal-momemtum0.4-method-minibatch-theta-xavier-alpha-0.01\n",
      "Time taken: 0.010519027709960938\n",
      "Average Accuracy: 0.5530932935231302\n",
      "Average f1: 0.5147903270815714\n",
      "🏃 View run reg-Normal-momemtum0.4-method-minibatch-theta-xavier-alpha-0.01 at: https://mlflow.ml.brain.cs.ait.ac.th/#/experiments/742878610382977256/runs/4d8f7718473043d5a56703026a453eab\n",
      "🧪 View experiment at: https://mlflow.ml.brain.cs.ait.ac.th/#/experiments/742878610382977256\n",
      "reg-Normal-momemtum0.4-method-minibatch-theta-xavier-alpha-0.001\n",
      "Time taken: 0.010064840316772461\n",
      "Average Accuracy: 0.6413917711029725\n",
      "Average f1: 0.6431102761095051\n",
      "🏃 View run reg-Normal-momemtum0.4-method-minibatch-theta-xavier-alpha-0.001 at: https://mlflow.ml.brain.cs.ait.ac.th/#/experiments/742878610382977256/runs/080b7576db11469e9b5c80b0e7404c7c\n",
      "🧪 View experiment at: https://mlflow.ml.brain.cs.ait.ac.th/#/experiments/742878610382977256\n",
      "reg-Normal-momemtum0.4-method-minibatch-theta-xavier-alpha-0.0001\n",
      "Time taken: 0.01168203353881836\n",
      "Average Accuracy: 0.6142973339095337\n",
      "Average f1: 0.6007183765989531\n",
      "🏃 View run reg-Normal-momemtum0.4-method-minibatch-theta-xavier-alpha-0.0001 at: https://mlflow.ml.brain.cs.ait.ac.th/#/experiments/742878610382977256/runs/532eaba03ebb41cf98abdf29d205dee4\n",
      "🧪 View experiment at: https://mlflow.ml.brain.cs.ait.ac.th/#/experiments/742878610382977256\n",
      "reg-Normal-momemtum0.4-method-batch-theta-zero-alpha-0.01\n",
      "Time taken: 0.07753109931945801\n",
      "Average Accuracy: 0.535188741977211\n",
      "Average f1: 0.49331669594338284\n",
      "🏃 View run reg-Normal-momemtum0.4-method-batch-theta-zero-alpha-0.01 at: https://mlflow.ml.brain.cs.ait.ac.th/#/experiments/742878610382977256/runs/0dc76a410e7d4fedb1f9aa9dd3e5a364\n",
      "🧪 View experiment at: https://mlflow.ml.brain.cs.ait.ac.th/#/experiments/742878610382977256\n",
      "reg-Normal-momemtum0.4-method-batch-theta-zero-alpha-0.001\n",
      "Time taken: 0.08106184005737305\n",
      "Average Accuracy: 0.6451290703240836\n",
      "Average f1: 0.6470423517779709\n",
      "🏃 View run reg-Normal-momemtum0.4-method-batch-theta-zero-alpha-0.001 at: https://mlflow.ml.brain.cs.ait.ac.th/#/experiments/742878610382977256/runs/ba5b936dcfd14860b9abb763b73d434a\n",
      "🧪 View experiment at: https://mlflow.ml.brain.cs.ait.ac.th/#/experiments/742878610382977256\n",
      "reg-Normal-momemtum0.4-method-batch-theta-zero-alpha-0.0001\n",
      "Time taken: 0.08135008811950684\n",
      "Average Accuracy: 0.6393685950461324\n",
      "Average f1: 0.637545147955927\n",
      "🏃 View run reg-Normal-momemtum0.4-method-batch-theta-zero-alpha-0.0001 at: https://mlflow.ml.brain.cs.ait.ac.th/#/experiments/742878610382977256/runs/8a6040417f194a9ca7bbccaded13d6d4\n",
      "🧪 View experiment at: https://mlflow.ml.brain.cs.ait.ac.th/#/experiments/742878610382977256\n",
      "reg-Normal-momemtum0.4-method-batch-theta-xavier-alpha-0.01\n",
      "Time taken: 0.08322286605834961\n",
      "Average Accuracy: 0.5152556306847035\n",
      "Average f1: 0.4643551686958303\n",
      "🏃 View run reg-Normal-momemtum0.4-method-batch-theta-xavier-alpha-0.01 at: https://mlflow.ml.brain.cs.ait.ac.th/#/experiments/742878610382977256/runs/3bb1d0eebad044ee92789b2ad756317d\n",
      "🧪 View experiment at: https://mlflow.ml.brain.cs.ait.ac.th/#/experiments/742878610382977256\n",
      "reg-Normal-momemtum0.4-method-batch-theta-xavier-alpha-0.001\n",
      "Time taken: 0.07818078994750977\n",
      "Average Accuracy: 0.6451290703240836\n",
      "Average f1: 0.6470423517779709\n",
      "🏃 View run reg-Normal-momemtum0.4-method-batch-theta-xavier-alpha-0.001 at: https://mlflow.ml.brain.cs.ait.ac.th/#/experiments/742878610382977256/runs/ac74060bb5e043eeaaa513cb751a1820\n",
      "🧪 View experiment at: https://mlflow.ml.brain.cs.ait.ac.th/#/experiments/742878610382977256\n",
      "reg-Normal-momemtum0.4-method-batch-theta-xavier-alpha-0.0001\n",
      "Time taken: 0.08309078216552734\n",
      "Average Accuracy: 0.6362538395165738\n",
      "Average f1: 0.6344227170916292\n",
      "🏃 View run reg-Normal-momemtum0.4-method-batch-theta-xavier-alpha-0.0001 at: https://mlflow.ml.brain.cs.ait.ac.th/#/experiments/742878610382977256/runs/9cc35327658d4f849c36b7187fe33442\n",
      "🧪 View experiment at: https://mlflow.ml.brain.cs.ait.ac.th/#/experiments/742878610382977256\n",
      "reg-Ridge-momemtum0-method-sto-theta-zero-alpha-0.01\n",
      "Time taken: 0.023778200149536133\n",
      "Average Accuracy: 0.46978971598854\n",
      "Average f1: 0.3785848748481053\n",
      "🏃 View run reg-Ridge-momemtum0-method-sto-theta-zero-alpha-0.01 at: https://mlflow.ml.brain.cs.ait.ac.th/#/experiments/742878610382977256/runs/30f20d5759d44ca9baa36ef13a192246\n",
      "🧪 View experiment at: https://mlflow.ml.brain.cs.ait.ac.th/#/experiments/742878610382977256\n",
      "reg-Ridge-momemtum0-method-sto-theta-zero-alpha-0.001\n",
      "Time taken: 0.015366792678833008\n",
      "Average Accuracy: 0.5319209878052152\n",
      "Average f1: 0.4692152220208215\n",
      "🏃 View run reg-Ridge-momemtum0-method-sto-theta-zero-alpha-0.001 at: https://mlflow.ml.brain.cs.ait.ac.th/#/experiments/742878610382977256/runs/39e2ed90a8744de9895ee805cb777d3f\n",
      "🧪 View experiment at: https://mlflow.ml.brain.cs.ait.ac.th/#/experiments/742878610382977256\n",
      "reg-Ridge-momemtum0-method-sto-theta-zero-alpha-0.0001\n",
      "Time taken: 0.020765066146850586\n",
      "Average Accuracy: 0.549518159767541\n",
      "Average f1: 0.4985686888122336\n",
      "🏃 View run reg-Ridge-momemtum0-method-sto-theta-zero-alpha-0.0001 at: https://mlflow.ml.brain.cs.ait.ac.th/#/experiments/742878610382977256/runs/d12041f26ee74961889472a2429ae92a\n",
      "🧪 View experiment at: https://mlflow.ml.brain.cs.ait.ac.th/#/experiments/742878610382977256\n",
      "reg-Ridge-momemtum0-method-sto-theta-xavier-alpha-0.01\n",
      "Time taken: 0.024502038955688477\n",
      "Average Accuracy: 0.1759685185104349\n",
      "Average f1: 0.13050022256136187\n",
      "🏃 View run reg-Ridge-momemtum0-method-sto-theta-xavier-alpha-0.01 at: https://mlflow.ml.brain.cs.ait.ac.th/#/experiments/742878610382977256/runs/ff38b0fa06aa47439e6c28252a82588a\n",
      "🧪 View experiment at: https://mlflow.ml.brain.cs.ait.ac.th/#/experiments/742878610382977256\n",
      "reg-Ridge-momemtum0-method-sto-theta-xavier-alpha-0.001\n",
      "Time taken: 0.025721073150634766\n",
      "Average Accuracy: 0.26346424429729026\n",
      "Average f1: 0.203298590911588\n",
      "🏃 View run reg-Ridge-momemtum0-method-sto-theta-xavier-alpha-0.001 at: https://mlflow.ml.brain.cs.ait.ac.th/#/experiments/742878610382977256/runs/97ef5e2b2eb54fe58ad872dc11245687\n",
      "🧪 View experiment at: https://mlflow.ml.brain.cs.ait.ac.th/#/experiments/742878610382977256\n",
      "reg-Ridge-momemtum0-method-sto-theta-xavier-alpha-0.0001\n",
      "Time taken: 0.008971929550170898\n",
      "Average Accuracy: 0.31112670441069695\n",
      "Average f1: 0.27669030363142916\n",
      "🏃 View run reg-Ridge-momemtum0-method-sto-theta-xavier-alpha-0.0001 at: https://mlflow.ml.brain.cs.ait.ac.th/#/experiments/742878610382977256/runs/e351683e2d094f11bfea3f363258ffc4\n",
      "🧪 View experiment at: https://mlflow.ml.brain.cs.ait.ac.th/#/experiments/742878610382977256\n",
      "reg-Ridge-momemtum0-method-minibatch-theta-zero-alpha-0.01\n",
      "Time taken: 0.010335683822631836\n",
      "Average Accuracy: 0.5297388473956764\n",
      "Average f1: 0.48368957392535483\n",
      "🏃 View run reg-Ridge-momemtum0-method-minibatch-theta-zero-alpha-0.01 at: https://mlflow.ml.brain.cs.ait.ac.th/#/experiments/742878610382977256/runs/8da249d8a2bf4fa8aeddc8ce49803161\n",
      "🧪 View experiment at: https://mlflow.ml.brain.cs.ait.ac.th/#/experiments/742878610382977256\n",
      "reg-Ridge-momemtum0-method-minibatch-theta-zero-alpha-0.001\n",
      "Time taken: 0.009688138961791992\n",
      "Average Accuracy: 0.6435720926984071\n",
      "Average f1: 0.6434510168409285\n",
      "🏃 View run reg-Ridge-momemtum0-method-minibatch-theta-zero-alpha-0.001 at: https://mlflow.ml.brain.cs.ait.ac.th/#/experiments/742878610382977256/runs/edd986d8542147d683db62fc2afc8504\n",
      "🧪 View experiment at: https://mlflow.ml.brain.cs.ait.ac.th/#/experiments/742878610382977256\n",
      "reg-Ridge-momemtum0-method-minibatch-theta-zero-alpha-0.0001\n",
      "Time taken: 0.010044097900390625\n",
      "Average Accuracy: 0.6019931292478403\n",
      "Average f1: 0.5751270704868143\n",
      "🏃 View run reg-Ridge-momemtum0-method-minibatch-theta-zero-alpha-0.0001 at: https://mlflow.ml.brain.cs.ait.ac.th/#/experiments/742878610382977256/runs/4d002be7863a4890b657bd51cd8de1c7\n",
      "🧪 View experiment at: https://mlflow.ml.brain.cs.ait.ac.th/#/experiments/742878610382977256\n",
      "reg-Ridge-momemtum0-method-minibatch-theta-xavier-alpha-0.01\n",
      "Time taken: 0.010718107223510742\n",
      "Average Accuracy: 0.6037081254428812\n",
      "Average f1: 0.5687078044786508\n",
      "🏃 View run reg-Ridge-momemtum0-method-minibatch-theta-xavier-alpha-0.01 at: https://mlflow.ml.brain.cs.ait.ac.th/#/experiments/742878610382977256/runs/5eff8be4e0f646d6a79a0637be5a2525\n",
      "🧪 View experiment at: https://mlflow.ml.brain.cs.ait.ac.th/#/experiments/742878610382977256\n",
      "reg-Ridge-momemtum0-method-minibatch-theta-xavier-alpha-0.001\n",
      "Time taken: 0.010705232620239258\n",
      "Average Accuracy: 0.6384338701017517\n",
      "Average f1: 0.6388164890364935\n",
      "🏃 View run reg-Ridge-momemtum0-method-minibatch-theta-xavier-alpha-0.001 at: https://mlflow.ml.brain.cs.ait.ac.th/#/experiments/742878610382977256/runs/05e77818bc6b4e10b885f091c181c2ae\n",
      "🧪 View experiment at: https://mlflow.ml.brain.cs.ait.ac.th/#/experiments/742878610382977256\n",
      "reg-Ridge-momemtum0-method-minibatch-theta-xavier-alpha-0.0001\n",
      "Time taken: 0.010776996612548828\n",
      "Average Accuracy: 0.5893799444461421\n",
      "Average f1: 0.5603787933083358\n",
      "🏃 View run reg-Ridge-momemtum0-method-minibatch-theta-xavier-alpha-0.0001 at: https://mlflow.ml.brain.cs.ait.ac.th/#/experiments/742878610382977256/runs/752cb8653a694f68b4039b2e0df4c5d7\n",
      "🧪 View experiment at: https://mlflow.ml.brain.cs.ait.ac.th/#/experiments/742878610382977256\n",
      "reg-Ridge-momemtum0-method-batch-theta-zero-alpha-0.01\n",
      "Time taken: 0.06667876243591309\n",
      "Average Accuracy: 0.5384664632504973\n",
      "Average f1: 0.5197666217150886\n",
      "🏃 View run reg-Ridge-momemtum0-method-batch-theta-zero-alpha-0.01 at: https://mlflow.ml.brain.cs.ait.ac.th/#/experiments/742878610382977256/runs/cc55fd53dbaf41c5a07ed9630f536722\n",
      "🧪 View experiment at: https://mlflow.ml.brain.cs.ait.ac.th/#/experiments/742878610382977256\n",
      "reg-Ridge-momemtum0-method-batch-theta-zero-alpha-0.001\n",
      "Time taken: 0.08024215698242188\n",
      "Average Accuracy: 0.6443506906400917\n",
      "Average f1: 0.6461436518492902\n",
      "🏃 View run reg-Ridge-momemtum0-method-batch-theta-zero-alpha-0.001 at: https://mlflow.ml.brain.cs.ait.ac.th/#/experiments/742878610382977256/runs/98c18af958ae4f07a510dd0f3fed506e\n",
      "🧪 View experiment at: https://mlflow.ml.brain.cs.ait.ac.th/#/experiments/742878610382977256\n",
      "reg-Ridge-momemtum0-method-batch-theta-zero-alpha-0.0001\n",
      "Time taken: 0.08181905746459961\n",
      "Average Accuracy: 0.6237961269444942\n",
      "Average f1: 0.6151924212845911\n",
      "🏃 View run reg-Ridge-momemtum0-method-batch-theta-zero-alpha-0.0001 at: https://mlflow.ml.brain.cs.ait.ac.th/#/experiments/742878610382977256/runs/6ea944183b144f538d9421b9b7796b41\n",
      "🧪 View experiment at: https://mlflow.ml.brain.cs.ait.ac.th/#/experiments/742878610382977256\n",
      "reg-Ridge-momemtum0-method-batch-theta-xavier-alpha-0.01\n",
      "Time taken: 0.08402013778686523\n",
      "Average Accuracy: 0.5141713264684015\n",
      "Average f1: 0.4780922122769975\n",
      "🏃 View run reg-Ridge-momemtum0-method-batch-theta-xavier-alpha-0.01 at: https://mlflow.ml.brain.cs.ait.ac.th/#/experiments/742878610382977256/runs/a73fc1ab242647a19dc6f411a3f2f67e\n",
      "🧪 View experiment at: https://mlflow.ml.brain.cs.ait.ac.th/#/experiments/742878610382977256\n",
      "reg-Ridge-momemtum0-method-batch-theta-xavier-alpha-0.001\n",
      "Time taken: 0.08002400398254395\n",
      "Average Accuracy: 0.6443506906400917\n",
      "Average f1: 0.6461436518492902\n",
      "🏃 View run reg-Ridge-momemtum0-method-batch-theta-xavier-alpha-0.001 at: https://mlflow.ml.brain.cs.ait.ac.th/#/experiments/742878610382977256/runs/80bfce1e6d294fd5baf6795d73d5f64f\n",
      "🧪 View experiment at: https://mlflow.ml.brain.cs.ait.ac.th/#/experiments/742878610382977256\n",
      "reg-Ridge-momemtum0-method-batch-theta-xavier-alpha-0.0001\n",
      "Time taken: 0.07584190368652344\n",
      "Average Accuracy: 0.6225506030460044\n",
      "Average f1: 0.6131544392569684\n",
      "🏃 View run reg-Ridge-momemtum0-method-batch-theta-xavier-alpha-0.0001 at: https://mlflow.ml.brain.cs.ait.ac.th/#/experiments/742878610382977256/runs/d4418513ce9d4936aa4e0c0ac884dcee\n",
      "🧪 View experiment at: https://mlflow.ml.brain.cs.ait.ac.th/#/experiments/742878610382977256\n",
      "reg-Ridge-momemtum0.4-method-sto-theta-zero-alpha-0.01\n",
      "Time taken: 0.019993066787719727\n",
      "Average Accuracy: 0.5498283039485727\n",
      "Average f1: 0.47081634448029264\n",
      "🏃 View run reg-Ridge-momemtum0.4-method-sto-theta-zero-alpha-0.01 at: https://mlflow.ml.brain.cs.ait.ac.th/#/experiments/742878610382977256/runs/cb62a45c243a4fdaa227c6f163aa3885\n",
      "🧪 View experiment at: https://mlflow.ml.brain.cs.ait.ac.th/#/experiments/742878610382977256\n",
      "reg-Ridge-momemtum0.4-method-sto-theta-zero-alpha-0.001\n",
      "Time taken: 0.018735170364379883\n",
      "Average Accuracy: 0.5160352471622862\n",
      "Average f1: 0.48212816491181076\n",
      "🏃 View run reg-Ridge-momemtum0.4-method-sto-theta-zero-alpha-0.001 at: https://mlflow.ml.brain.cs.ait.ac.th/#/experiments/742878610382977256/runs/737806aac7b341ff828206fe78a89242\n",
      "🧪 View experiment at: https://mlflow.ml.brain.cs.ait.ac.th/#/experiments/742878610382977256\n",
      "reg-Ridge-momemtum0.4-method-sto-theta-zero-alpha-0.0001\n",
      "Time taken: 0.021505117416381836\n",
      "Average Accuracy: 0.5529462605909545\n",
      "Average f1: 0.5059845682139167\n",
      "🏃 View run reg-Ridge-momemtum0.4-method-sto-theta-zero-alpha-0.0001 at: https://mlflow.ml.brain.cs.ait.ac.th/#/experiments/742878610382977256/runs/eeee04fb8c7346629c21c6bd546bcab6\n",
      "🧪 View experiment at: https://mlflow.ml.brain.cs.ait.ac.th/#/experiments/742878610382977256\n",
      "reg-Ridge-momemtum0.4-method-sto-theta-xavier-alpha-0.01\n",
      "Time taken: 0.019292116165161133\n",
      "Average Accuracy: 0.43429788682902126\n",
      "Average f1: 0.3615818257621797\n",
      "🏃 View run reg-Ridge-momemtum0.4-method-sto-theta-xavier-alpha-0.01 at: https://mlflow.ml.brain.cs.ait.ac.th/#/experiments/742878610382977256/runs/3e918d5a56644323b341cfed90fd2a01\n",
      "🧪 View experiment at: https://mlflow.ml.brain.cs.ait.ac.th/#/experiments/742878610382977256\n",
      "reg-Ridge-momemtum0.4-method-sto-theta-xavier-alpha-0.001\n",
      "Time taken: 0.018994808197021484\n",
      "Average Accuracy: 0.21503897354862275\n",
      "Average f1: 0.15888185949733916\n",
      "🏃 View run reg-Ridge-momemtum0.4-method-sto-theta-xavier-alpha-0.001 at: https://mlflow.ml.brain.cs.ait.ac.th/#/experiments/742878610382977256/runs/9c2cefddfec04284bd5e3f7edc0a951b\n",
      "🧪 View experiment at: https://mlflow.ml.brain.cs.ait.ac.th/#/experiments/742878610382977256\n",
      "reg-Ridge-momemtum0.4-method-sto-theta-xavier-alpha-0.0001\n",
      "Time taken: 0.01897120475769043\n",
      "Average Accuracy: 0.2894739407590421\n",
      "Average f1: 0.20516073389615977\n",
      "🏃 View run reg-Ridge-momemtum0.4-method-sto-theta-xavier-alpha-0.0001 at: https://mlflow.ml.brain.cs.ait.ac.th/#/experiments/742878610382977256/runs/2ac4f7fb31ed4af2ad5885efd8b13333\n",
      "🧪 View experiment at: https://mlflow.ml.brain.cs.ait.ac.th/#/experiments/742878610382977256\n",
      "reg-Ridge-momemtum0.4-method-minibatch-theta-zero-alpha-0.01\n",
      "Time taken: 0.011436939239501953\n",
      "Average Accuracy: 0.566964733922047\n",
      "Average f1: 0.5554001426428128\n",
      "🏃 View run reg-Ridge-momemtum0.4-method-minibatch-theta-zero-alpha-0.01 at: https://mlflow.ml.brain.cs.ait.ac.th/#/experiments/742878610382977256/runs/6660a7aefd0c47a4b41552d9255c6384\n",
      "🧪 View experiment at: https://mlflow.ml.brain.cs.ait.ac.th/#/experiments/742878610382977256\n",
      "reg-Ridge-momemtum0.4-method-minibatch-theta-zero-alpha-0.001\n",
      "Time taken: 0.011074066162109375\n",
      "Average Accuracy: 0.6401457379365336\n",
      "Average f1: 0.6410322076184695\n",
      "🏃 View run reg-Ridge-momemtum0.4-method-minibatch-theta-zero-alpha-0.001 at: https://mlflow.ml.brain.cs.ait.ac.th/#/experiments/742878610382977256/runs/106e3869287b443faa7de846859183b3\n",
      "🧪 View experiment at: https://mlflow.ml.brain.cs.ait.ac.th/#/experiments/742878610382977256\n",
      "reg-Ridge-momemtum0.4-method-minibatch-theta-zero-alpha-0.0001\n",
      "Time taken: 0.010046958923339844\n",
      "Average Accuracy: 0.6138277161078541\n",
      "Average f1: 0.5980418877390338\n",
      "🏃 View run reg-Ridge-momemtum0.4-method-minibatch-theta-zero-alpha-0.0001 at: https://mlflow.ml.brain.cs.ait.ac.th/#/experiments/742878610382977256/runs/50a677136cef47eb92393ce3d257c8a0\n",
      "🧪 View experiment at: https://mlflow.ml.brain.cs.ait.ac.th/#/experiments/742878610382977256\n",
      "reg-Ridge-momemtum0.4-method-minibatch-theta-xavier-alpha-0.01\n",
      "Time taken: 0.011085987091064453\n",
      "Average Accuracy: 0.5367444828092967\n",
      "Average f1: 0.4811591834380409\n",
      "🏃 View run reg-Ridge-momemtum0.4-method-minibatch-theta-xavier-alpha-0.01 at: https://mlflow.ml.brain.cs.ait.ac.th/#/experiments/742878610382977256/runs/dae85157de114621ae579727d127b378\n",
      "🧪 View experiment at: https://mlflow.ml.brain.cs.ait.ac.th/#/experiments/742878610382977256\n",
      "reg-Ridge-momemtum0.4-method-minibatch-theta-xavier-alpha-0.001\n",
      "Time taken: 0.010361194610595703\n",
      "Average Accuracy: 0.6384337245966233\n",
      "Average f1: 0.6389058522127238\n",
      "🏃 View run reg-Ridge-momemtum0.4-method-minibatch-theta-xavier-alpha-0.001 at: https://mlflow.ml.brain.cs.ait.ac.th/#/experiments/742878610382977256/runs/4bed92292f6b49e78126434e4729e45b\n",
      "🧪 View experiment at: https://mlflow.ml.brain.cs.ait.ac.th/#/experiments/742878610382977256\n",
      "reg-Ridge-momemtum0.4-method-minibatch-theta-xavier-alpha-0.0001\n",
      "Time taken: 0.009976863861083984\n",
      "Average Accuracy: 0.6099336351109695\n",
      "Average f1: 0.5921464542583298\n",
      "🏃 View run reg-Ridge-momemtum0.4-method-minibatch-theta-xavier-alpha-0.0001 at: https://mlflow.ml.brain.cs.ait.ac.th/#/experiments/742878610382977256/runs/7970a1f268fe437ba3c27950aabf585f\n",
      "🧪 View experiment at: https://mlflow.ml.brain.cs.ait.ac.th/#/experiments/742878610382977256\n",
      "reg-Ridge-momemtum0.4-method-batch-theta-zero-alpha-0.01\n",
      "Time taken: 0.08542203903198242\n",
      "Average Accuracy: 0.5963890719828421\n",
      "Average f1: 0.5806402899024015\n",
      "🏃 View run reg-Ridge-momemtum0.4-method-batch-theta-zero-alpha-0.01 at: https://mlflow.ml.brain.cs.ait.ac.th/#/experiments/742878610382977256/runs/9e8c8df5e9a64ec6b3363261a1dcfa3c\n",
      "🧪 View experiment at: https://mlflow.ml.brain.cs.ait.ac.th/#/experiments/742878610382977256\n",
      "reg-Ridge-momemtum0.4-method-batch-theta-zero-alpha-0.001\n",
      "Time taken: 0.07600688934326172\n",
      "Average Accuracy: 0.6459078137708963\n",
      "Average f1: 0.6475864725161311\n",
      "🏃 View run reg-Ridge-momemtum0.4-method-batch-theta-zero-alpha-0.001 at: https://mlflow.ml.brain.cs.ait.ac.th/#/experiments/742878610382977256/runs/0da982a0052844209600fec4d3c1cef3\n",
      "🧪 View experiment at: https://mlflow.ml.brain.cs.ait.ac.th/#/experiments/742878610382977256\n",
      "reg-Ridge-momemtum0.4-method-batch-theta-zero-alpha-0.0001\n",
      "Time taken: 0.07876420021057129\n",
      "Average Accuracy: 0.6384345976273934\n",
      "Average f1: 0.6353545113927983\n",
      "🏃 View run reg-Ridge-momemtum0.4-method-batch-theta-zero-alpha-0.0001 at: https://mlflow.ml.brain.cs.ait.ac.th/#/experiments/742878610382977256/runs/791f8032f6344809835cc1a7f864e99e\n",
      "🧪 View experiment at: https://mlflow.ml.brain.cs.ait.ac.th/#/experiments/742878610382977256\n",
      "reg-Ridge-momemtum0.4-method-batch-theta-xavier-alpha-0.01\n",
      "Time taken: 0.07927918434143066\n",
      "Average Accuracy: 0.5185275317528566\n",
      "Average f1: 0.4457206599490437\n",
      "🏃 View run reg-Ridge-momemtum0.4-method-batch-theta-xavier-alpha-0.01 at: https://mlflow.ml.brain.cs.ait.ac.th/#/experiments/742878610382977256/runs/fc302e203dfe4697ae1ff250278908e2\n",
      "🧪 View experiment at: https://mlflow.ml.brain.cs.ait.ac.th/#/experiments/742878610382977256\n",
      "reg-Ridge-momemtum0.4-method-batch-theta-xavier-alpha-0.001\n",
      "Time taken: 0.08385300636291504\n",
      "Average Accuracy: 0.6459078137708963\n",
      "Average f1: 0.6475864725161311\n",
      "🏃 View run reg-Ridge-momemtum0.4-method-batch-theta-xavier-alpha-0.001 at: https://mlflow.ml.brain.cs.ait.ac.th/#/experiments/742878610382977256/runs/94f522f8c45b4d069fc212d9e2c19af8\n",
      "🧪 View experiment at: https://mlflow.ml.brain.cs.ait.ac.th/#/experiments/742878610382977256\n",
      "reg-Ridge-momemtum0.4-method-batch-theta-xavier-alpha-0.0001\n",
      "Time taken: 0.07714724540710449\n",
      "Average Accuracy: 0.6373449097213432\n",
      "Average f1: 0.6338747807168011\n",
      "🏃 View run reg-Ridge-momemtum0.4-method-batch-theta-xavier-alpha-0.0001 at: https://mlflow.ml.brain.cs.ait.ac.th/#/experiments/742878610382977256/runs/771739e74381467fa7afbea071beeccf\n",
      "🧪 View experiment at: https://mlflow.ml.brain.cs.ait.ac.th/#/experiments/742878610382977256\n"
     ]
    }
   ],
   "source": [
    "# from sklearn.preprocessing import PolynomialFeatures\n",
    "m = X_train.shape[0]\n",
    "n = X_train.shape[1]\n",
    "\n",
    "# Try all possible combination of the defined hyperparameters.\n",
    "for reg in regs:\n",
    "    for momentum in momentums:\n",
    "        for grad in grads:\n",
    "            for init_theta in init_thetas:\n",
    "                for alpha in alphas:\n",
    "\n",
    "                    mlflow_params = {\"reg\": reg,\n",
    "                                    \"momentum\": momentum, \n",
    "                                    \"method\": grad,\n",
    "                                    \"init_theta\": init_theta,\n",
    "                                    \"alpha\": alpha }\n",
    "                    \n",
    "                    current_run = f\"reg-{reg}-momemtum{momentum}-method-{grad}-theta-{init_theta}-alpha-{alpha}\"\n",
    "                    mlflow.start_run(run_name=current_run, nested=True)\n",
    "                    mlflow.log_params(params=mlflow_params)\n",
    "                    \n",
    "                    print(current_run)\n",
    "                    params = {\"k\": k, \"n\": n, \"m\": m, \"method\": grad, \"init_theta\": init_theta, \"momentum\": momentum, \"alpha\": alpha, \"max_iter\": 50}\n",
    "\n",
    "                    type_of_regression = str_to_class(reg)    #Ridge, Lasso, ElasticNet\n",
    "                    model = type_of_regression(**params)\n",
    "\n",
    "                    model.fit(X_train, Y_train_encoded)\n",
    "                    \n",
    "                    print('Average Accuracy:', model.avgKfoldAccuracy())\n",
    "                    print('Average f1:', model.avgKfoldf1())\n",
    "\n",
    "                    # Record metric of current model to MLflow\n",
    "                    mlflow.log_metric(key=\"cv_accuracy\", value = model.avgKfoldAccuracy())\n",
    "                    mlflow.log_metric(key=\"cv_f1\", value = model.avgKfoldAccuracy())\n",
    "                    \n",
    "                    signature = mlflow.models.infer_signature(X_train, model.predict(X_train))\n",
    "                        \n",
    "                    mlflow.sklearn.log_model(model, artifact_path='model', signature=signature)\n",
    "\n",
    "                    # #######\n",
    "                    mlflow.end_run()"
   ]
  },
  {
   "cell_type": "markdown",
   "id": "836694ab",
   "metadata": {},
   "source": [
    "### Load model from ML flow"
   ]
  },
  {
   "cell_type": "code",
   "execution_count": 270,
   "id": "962da61a",
   "metadata": {},
   "outputs": [
    {
     "name": "stderr",
     "output_type": "stream",
     "text": [
      "Downloading artifacts: 100%|██████████| 5/5 [00:00<00:00, 11.19it/s]\n"
     ]
    }
   ],
   "source": [
    "import mlflow.pyfunc\n",
    "import os\n",
    "\n",
    "mlflow.set_tracking_uri(\"https://mlflow.ml.brain.cs.ait.ac.th\")\n",
    "os.environ['MLFLOW_TRACKING_USERNAME'] = 'admin'\n",
    "os.environ['MLFLOW_TRACKING_PASSWORD'] = 'password'\n",
    "\n",
    "model_name = \"st124642-a3-model\"\n",
    "model_version = 5\n",
    "\n",
    "loaded_model = mlflow.pyfunc.load_model(model_uri=f\"models:/{model_name}/{model_version}\")"
   ]
  },
  {
   "cell_type": "markdown",
   "id": "07cf30f7",
   "metadata": {},
   "source": [
    "### Use the best model on test set"
   ]
  },
  {
   "cell_type": "code",
   "execution_count": 271,
   "id": "db431213",
   "metadata": {},
   "outputs": [
    {
     "name": "stdout",
     "output_type": "stream",
     "text": [
      "===Classification report (My Model)===\n",
      "Report\t\t precision\t recall\t\t f1-score\t support\n",
      "\n",
      "0 \t\t 0.77 \t\t 0.81 \t\t 0.79 \t\t 411\n",
      "1 \t\t 0.57 \t\t 0.44 \t\t 0.5 \t\t 456\n",
      "2 \t\t 0.44 \t\t 0.61 \t\t 0.51 \t\t 352\n",
      "3 \t\t 0.81 \t\t 0.71 \t\t 0.76 \t\t 387\n",
      "\n",
      "accuracy\t\t\t\t\t 0.64 \t\t 1606\n",
      "macro avg\t 0.65\t\t 0.64\t\t 0.64\t\t 1606\n",
      "weighted avg\t 0.65\t\t 0.64\t\t 0.64\t\t 1606\n"
     ]
    }
   ],
   "source": [
    "yhat = loaded_model.predict(X_test)\n",
    "print(\"===Classification report (My Model)===\")\n",
    "model.classification_report(y_test, yhat)"
   ]
  },
  {
   "cell_type": "markdown",
   "id": "a3e780a0",
   "metadata": {},
   "source": [
    "### Save Encoders, Default values and Scalers"
   ]
  },
  {
   "cell_type": "code",
   "execution_count": 284,
   "id": "9139c53d",
   "metadata": {},
   "outputs": [],
   "source": [
    "year_default = 2012       \n",
    "mileage_default =16 \n",
    "max_power_default = 94"
   ]
  },
  {
   "cell_type": "code",
   "execution_count": 286,
   "id": "d8ca4e7d",
   "metadata": {},
   "outputs": [],
   "source": [
    "import pickle\n",
    "\n",
    "model_package = {\n",
    "    'scaler': scaler,\n",
    "    'year_default': year_default,\n",
    "    'mileage_default': mileage_default,\n",
    "    'max_power_default': max_power_default,\n",
    "    'classes': c\n",
    "}\n",
    "\n",
    "filename = '../model/a3_car_price.model'\n",
    "pickle.dump(model_package, open(filename, 'wb'))"
   ]
  },
  {
   "cell_type": "markdown",
   "id": "e95d989e",
   "metadata": {},
   "source": [
    "### Inference"
   ]
  },
  {
   "cell_type": "code",
   "execution_count": 287,
   "id": "b7e256b1",
   "metadata": {},
   "outputs": [
    {
     "name": "stdout",
     "output_type": "stream",
     "text": [
      "Predicted price range: $260,000 - $450,000\n"
     ]
    }
   ],
   "source": [
    "input_features = np.array([[year_default, mileage_default,max_power_default ]], dtype=np.float64)\n",
    "input_features[:, 0: 3] = scaler.transform(input_features[:, 0: 3])\n",
    "input_features = np.insert(input_features, 0, 1, axis=1)\n",
    "predicted_class = loaded_model.predict(input_features)[0]\n",
    "\n",
    "# Convert predicted class index to real price range\n",
    "real_c = np.exp(c)  # If your class boundaries are in log scale\n",
    "prediction = f\"${real_c[predicted_class]:,.0f} - ${real_c[predicted_class + 1]:,.0f}\"\n",
    "print(\"Predicted price range:\", prediction)"
   ]
  },
  {
   "cell_type": "code",
   "execution_count": 288,
   "id": "bd6f8017",
   "metadata": {},
   "outputs": [
    {
     "data": {
      "text/plain": [
       "year             2011.000000\n",
       "mileage            21.000000\n",
       "max_power          64.100000\n",
       "selling_price      12.066811\n",
       "Name: 20, dtype: float64"
      ]
     },
     "execution_count": 288,
     "metadata": {},
     "output_type": "execute_result"
    }
   ],
   "source": [
    "#Test the model with simple input\n",
    "df[['year','mileage','max_power','selling_price']].loc[20]"
   ]
  },
  {
   "cell_type": "code",
   "execution_count": 289,
   "id": "0f78b623",
   "metadata": {},
   "outputs": [
    {
     "data": {
      "text/plain": [
       "np.float64(173999.99999999997)"
      ]
     },
     "execution_count": 289,
     "metadata": {},
     "output_type": "execute_result"
    }
   ],
   "source": [
    "# The real selling price of this sample\n",
    "np.exp(df['selling_price'].loc[20])"
   ]
  },
  {
   "cell_type": "markdown",
   "id": "d18b7540",
   "metadata": {},
   "source": [
    "# 📄 Report\n",
    "\n",
    "I selected the features **`year`**, **`mileage`**, and **`max_power`** to predict the car's price range. These features are continuous and directly influence a vehicle's valuation based on usage, age, and performance.\n",
    "\n",
    "After training multiple models with different configurations, I found that the following model achieved the **best accuracy**:\n",
    "\n",
    "> **Model:** `reg-Normal-momentum0-method-batch-theta-xavier-alpha-0.001`  \n",
    "> **Description:** A logistic regression model using **Xavier initialization**, **batch gradient descent**, **no momentum**, and **L2 regularization disabled (Normal)** with a learning rate (`alpha`) of **0.001**.\n",
    "\n",
    "This configuration achieved the highest cross-validated accuracy among all experiments tracked via **MLflow**.\n",
    "\n",
    "![Best Model Screenshot](../images/mlflow.png)"
   ]
  },
  {
   "cell_type": "markdown",
   "id": "6b8d6333",
   "metadata": {},
   "source": [
    "![website](../images/web.png)"
   ]
  },
  {
   "cell_type": "markdown",
   "id": "1d6a7553",
   "metadata": {},
   "source": []
  }
 ],
 "metadata": {
  "kernelspec": {
   "display_name": "pythonDSAI",
   "language": "python",
   "name": "python3"
  },
  "language_info": {
   "codemirror_mode": {
    "name": "ipython",
    "version": 3
   },
   "file_extension": ".py",
   "mimetype": "text/x-python",
   "name": "python",
   "nbconvert_exporter": "python",
   "pygments_lexer": "ipython3",
   "version": "3.10.16"
  }
 },
 "nbformat": 4,
 "nbformat_minor": 5
}
